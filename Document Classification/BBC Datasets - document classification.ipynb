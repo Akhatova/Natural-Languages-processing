{
 "cells": [
  {
   "cell_type": "markdown",
   "metadata": {
    "colab_type": "text",
    "id": "-h4oIrgOKMk0"
   },
   "source": [
    "# BBC Datasets : document classification"
   ]
  },
  {
   "cell_type": "markdown",
   "metadata": {
    "colab_type": "text",
    "id": "EUVuHVE9ePTL"
   },
   "source": [
    "## 1. Data input and pre-processing\n",
    "\n",
    "We are loading this dataset locally, as a CSV file, and adding a column encoding the category as an integer (categorical variables are often better represented by integers than strings).\n",
    "The dataset can also be downloaded from [its original source](http://mlg.ucd.ie/datasets/bbc.html)."
   ]
  },
  {
   "cell_type": "code",
   "execution_count": 1,
   "metadata": {
    "colab": {},
    "colab_type": "code",
    "id": "JFMm799HKMlu"
   },
   "outputs": [],
   "source": [
    "import pandas as pd"
   ]
  },
  {
   "cell_type": "code",
   "execution_count": 9,
   "metadata": {
    "colab": {},
    "colab_type": "code",
    "id": "45vv7UAMKMlx"
   },
   "outputs": [],
   "source": [
    "# -*- coding : utf-8 -*-\n",
    "#from io import StringIO\n",
    "df = pd.read_csv('bbc-text.csv')\n",
    "df.head()\n",
    "df['category_id'] = df['category'].factorize()[0]"
   ]
  },
  {
   "cell_type": "code",
   "execution_count": 10,
   "metadata": {
    "colab": {},
    "colab_type": "code",
    "id": "2wDV-e9TdRoU"
   },
   "outputs": [],
   "source": [
    "category_id_df = df[['category', 'category_id']].drop_duplicates().sort_values('category_id')\n",
    "category_to_id = dict(category_id_df.values)\n",
    "id_to_category = dict(category_id_df[['category_id', 'category']].values)"
   ]
  },
  {
   "cell_type": "markdown",
   "metadata": {
    "colab_type": "text",
    "id": "kRviyvPXec-K"
   },
   "source": [
    "## 2. Data exploration\n",
    "\n",
    "Before diving head-first into training machine learning models, we should become familiar with the structure and characteristics of our dataset: these properties might inform our problem-solving approach.\n",
    "\n",
    "A first step would be to look at some random examples, and the number of examples in each class:"
   ]
  },
  {
   "cell_type": "code",
   "execution_count": 11,
   "metadata": {
    "colab": {
     "base_uri": "https://localhost:8080/",
     "height": 204
    },
    "colab_type": "code",
    "id": "CM-x-fpjKMl0",
    "outputId": "69f134bd-7517-4c12-952a-a79eff3e1ace"
   },
   "outputs": [
    {
     "data": {
      "text/html": [
       "<div>\n",
       "<style scoped>\n",
       "    .dataframe tbody tr th:only-of-type {\n",
       "        vertical-align: middle;\n",
       "    }\n",
       "\n",
       "    .dataframe tbody tr th {\n",
       "        vertical-align: top;\n",
       "    }\n",
       "\n",
       "    .dataframe thead th {\n",
       "        text-align: right;\n",
       "    }\n",
       "</style>\n",
       "<table border=\"1\" class=\"dataframe\">\n",
       "  <thead>\n",
       "    <tr style=\"text-align: right;\">\n",
       "      <th></th>\n",
       "      <th>category</th>\n",
       "      <th>text</th>\n",
       "      <th>category_id</th>\n",
       "    </tr>\n",
       "  </thead>\n",
       "  <tbody>\n",
       "    <tr>\n",
       "      <th>384</th>\n",
       "      <td>politics</td>\n",
       "      <td>drive to  save  festive holidays efforts are b...</td>\n",
       "      <td>4</td>\n",
       "    </tr>\n",
       "    <tr>\n",
       "      <th>1983</th>\n",
       "      <td>sport</td>\n",
       "      <td>officials respond in court row australian tenn...</td>\n",
       "      <td>2</td>\n",
       "    </tr>\n",
       "    <tr>\n",
       "      <th>985</th>\n",
       "      <td>sport</td>\n",
       "      <td>cup holders man utd visit everton holders manc...</td>\n",
       "      <td>2</td>\n",
       "    </tr>\n",
       "    <tr>\n",
       "      <th>1386</th>\n",
       "      <td>sport</td>\n",
       "      <td>adriano s chelsea link rejected adriano s agen...</td>\n",
       "      <td>2</td>\n",
       "    </tr>\n",
       "    <tr>\n",
       "      <th>1294</th>\n",
       "      <td>sport</td>\n",
       "      <td>o driscoll/gregan lead aid stars ireland s bri...</td>\n",
       "      <td>2</td>\n",
       "    </tr>\n",
       "  </tbody>\n",
       "</table>\n",
       "</div>"
      ],
      "text/plain": [
       "      category                                               text  category_id\n",
       "384   politics  drive to  save  festive holidays efforts are b...            4\n",
       "1983     sport  officials respond in court row australian tenn...            2\n",
       "985      sport  cup holders man utd visit everton holders manc...            2\n",
       "1386     sport  adriano s chelsea link rejected adriano s agen...            2\n",
       "1294     sport  o driscoll/gregan lead aid stars ireland s bri...            2"
      ]
     },
     "execution_count": 11,
     "metadata": {},
     "output_type": "execute_result"
    }
   ],
   "source": [
    "df.sample(5, random_state=0)"
   ]
  },
  {
   "cell_type": "code",
   "execution_count": 14,
   "metadata": {
    "colab": {
     "base_uri": "https://localhost:8080/",
     "height": 391
    },
    "colab_type": "code",
    "id": "8GU61mTp5kpC",
    "outputId": "2b05e4b9-be4d-4280-82a1-b9665d4ff0eb"
   },
   "outputs": [
    {
     "data": {
      "image/png": "[encoded data removed]",
      "text/plain": [
       "<Figure size 432x288 with 1 Axes>"
      ]
     },
     "metadata": {
      "needs_background": "light"
     },
     "output_type": "display_data"
    }
   ],
   "source": [
    "df.groupby('category').text.count().plot.bar(ylim=0);"
   ]
  },
  {
   "cell_type": "markdown",
   "metadata": {
    "colab_type": "text",
    "id": "Imf7a7091OSB"
   },
   "source": [
    "Here, we see that the number of articles per class is roughly balanced, which is helpful! If our dataset were imbalanced, we would need to carefully configure our model or artificially balance the dataset, for example by [undersampling or oversampling](https://en.wikipedia.org/wiki/Oversampling_and_undersampling_in_data_analysis) each class.\n",
    "\n",
    "To further analyze our dataset, we need to transform each article's text to a feature vector, a list of numerical values representing some of the text’s characteristics. This is because most ML models cannot process raw text, instead only dealing with numerical values.\n",
    "\n",
    "One common approach for extracting features from text is to use the bag of words model: a model where for each document, an article in our case, the presence (and often the frequency) of words is taken into consideration, but the order in which they occur is ignored.\n",
    "\n",
    "Specifically, for each term in our dataset, we will calculate a measure called Term Frequency, Inverse Document Frequency, abbreviated to tf-idf. This statistic represents words’ importance in each document. We use a word's frequency as a proxy for its importance: if \"football\" is mentioned 25 times in a document, it might be more important than if it was only mentioned once. We also use the document frequency (the number of documents containing a given word) as a measure of how common the word is. This minimizes the effect of stop-words such as pronouns, or domain-specific language that does not add much information (for example, a word such as \"news\" that might be present in most documents).\n",
    "We will use sklearn (also known as scikit-learn), a machine learning library that is particularly accessible to beginners.\n",
    "We use the `TfidfVectorizer` class to calculate a `tf-idf` vector for each of our documents:\n",
    "\n",
    "`sklearn.feature_extraction.text.TfidfVectorizer` will be used to calculate a `tf-idf` vector for each of our documents. Note that we are passing a number of parameters to this class:\n",
    "\n",
    "- `sublinear_df` is set to `True` to use a logarithmic form for frequency, to give diminishing returns as the frequency of a word increases. This is usually preferable for a number of reasons, one of which being [Zipf's Law](https://en.wikipedia.org/wiki/Zipf%27s_law).\n",
    "- `min_df` is the minimum numbers of documents a word must be present in to be kept, and we are setting it to `5`. This is to avoid rare words, which drastically increase the size of our features and might cause [overfitting](https://en.wikipedia.org/wiki/Overfitting).\n",
    "- `norm` is set to `l2`, to ensure all our feature vectors have a euclidian norm of 1. This is helpful for visualizing these vectors, and can also improve (or deteriorate) the performance of some models.\n",
    "- `encoding` is set to `latin-1` which is used by our input text.\n",
    "- `ngram_range` is set to `(1, 2)` to indicate that we want to consider both unigrams and bigrams, or in other terms: we want to consider single words (\"prices\", \"player\") and pairs of words (\"stock prices\", \"football player\").\n",
    "- Finally, `stop_words` is set to `\"english\"` to remove all common pronouns (`\"a\"`, `\"the\"`, ...) and further reduce the number of noisy features."
   ]
  },
  {
   "cell_type": "code",
   "execution_count": 15,
   "metadata": {
    "colab": {
     "base_uri": "https://localhost:8080/",
     "height": 34
    },
    "colab_type": "code",
    "id": "mtmh4uCMKMl5",
    "outputId": "d168969e-6e6b-4907-998f-7b9fd9fa444d"
   },
   "outputs": [
    {
     "data": {
      "text/plain": [
       "(2225, 14415)"
      ]
     },
     "execution_count": 15,
     "metadata": {},
     "output_type": "execute_result"
    }
   ],
   "source": [
    "from sklearn.feature_extraction.text import TfidfVectorizer\n",
    "\n",
    "tfidf = TfidfVectorizer(sublinear_tf=True, min_df=5, norm='l2', encoding='latin-1', ngram_range=(1, 2), stop_words='english')\n",
    "\n",
    "features = tfidf.fit_transform(df.text).toarray()\n",
    "labels = df.category_id\n",
    "features.shape"
   ]
  },
  {
   "cell_type": "markdown",
   "metadata": {
    "colab_type": "text",
    "id": "P-DT_-fH_AJ0"
   },
   "source": [
    "Each of our 2225 documents is now represented by 14415 features, representing the tf-idf score for different unigrams and bigrams.\n",
    "\n",
    "This representation is not only useful for solving our classification task, but also to familiarize ourselves with the dataset. For example, we can use the [chi-squared test](https://en.wikipedia.org/wiki/Pearson%27s_chi-squared_test) to find the terms are the most correlated with each of the categories:"
   ]
  },
  {
   "cell_type": "code",
   "execution_count": 16,
   "metadata": {
    "colab": {
     "base_uri": "https://localhost:8080/",
     "height": 782
    },
    "colab_type": "code",
    "id": "p5pkpgQsKMmN",
    "outputId": "be543c88-5be0-406f-e6c3-5f1aaa1e0f7f"
   },
   "outputs": [
    {
     "name": "stdout",
     "output_type": "stream",
     "text": [
      "# 'business':\n",
      "  . Most correlated unigrams:\n",
      "       . oil\n",
      "       . growth\n",
      "       . shares\n",
      "  . Most correlated bigrams:\n",
      "       . analysts said\n",
      "       . economic growth\n",
      "       . stock market\n",
      "# 'entertainment':\n",
      "  . Most correlated unigrams:\n",
      "       . singer\n",
      "       . actor\n",
      "       . film\n",
      "  . Most correlated bigrams:\n",
      "       . los angeles\n",
      "       . film festival\n",
      "       . box office\n",
      "# 'politics':\n",
      "  . Most correlated unigrams:\n",
      "       . blair\n",
      "       . election\n",
      "       . labour\n",
      "  . Most correlated bigrams:\n",
      "       . prime minister\n",
      "       . tony blair\n",
      "       . mr blair\n",
      "# 'sport':\n",
      "  . Most correlated unigrams:\n",
      "       . coach\n",
      "       . match\n",
      "       . cup\n",
      "  . Most correlated bigrams:\n",
      "       . grand slam\n",
      "       . australian open\n",
      "       . champions league\n",
      "# 'tech':\n",
      "  . Most correlated unigrams:\n",
      "       . technology\n",
      "       . software\n",
      "       . users\n",
      "  . Most correlated bigrams:\n",
      "       . anti virus\n",
      "       . mobile phones\n",
      "       . mobile phone\n"
     ]
    }
   ],
   "source": [
    "from sklearn.feature_selection import chi2\n",
    "import numpy as np\n",
    "\n",
    "N = 3\n",
    "for category, category_id in sorted(category_to_id.items()):\n",
    "    features_chi2 = chi2(features, labels == category_id)\n",
    "    indices = np.argsort(features_chi2[0])\n",
    "    feature_names = np.array(tfidf.get_feature_names())[indices]\n",
    "    unigrams = [v for v in feature_names if len(v.split(' ')) == 1]\n",
    "    bigrams = [v for v in feature_names if len(v.split(' ')) == 2]\n",
    "    print(\"# '{}':\".format(category))\n",
    "    print(\"  . Most correlated unigrams:\\n       . {}\".format('\\n       . '.join(unigrams[-N:])))\n",
    "    print(\"  . Most correlated bigrams:\\n       . {}\".format('\\n       . '.join(bigrams[-N:])))"
   ]
  },
  {
   "cell_type": "markdown",
   "metadata": {
    "colab_type": "text",
    "id": "4I-TGszv_tKv"
   },
   "source": [
    "These result are consistent with what we would expect from a news outlet. We also notice that the addition of bigrams is welcome since it catches pairs of words that only make sense when put together (grand slam, box office, ...). Simply using this correlation factor to predict which class is the most likely might already get us quite far, but we will see that there are simpler and more efficient ways to do this.\n",
    "\n",
    "Although this first test proves the presence of terms specific to each category, there might still be too much noise in the data, making it impossible to clearly separate each category. One way to confirm that the feature space we are using is representative enough for our task (classifying articles into separate labels) to be solvable is to use dimensionality-reduction techniques: These methods project a high-dimensional vector into a lower number of dimensions, with different guarantees on this projection according to the method used:\n",
    "\n",
    "- Principal Component Analysis (PCA) and Truncated Singular Value Decomposition (Truncated SVD) are two popular method given their scalability to a large number of dimensions, but they perform poorly on some classes of problems (when the correlations between the data are non-linear).\n",
    "- Kernel PCA, self-organizing maps and auto-encoders are often used when the correlations between the features' dimensions are non-linear.\n",
    "\n",
    "Given our dataset contains natural language, we are most likely in the second case and will use [**t-SNE**](https://lvdmaaten.github.io/tsne/), a popular dimensionality reduction technique used in many fields, including NLP."
   ]
  },
  {
   "cell_type": "code",
   "execution_count": 17,
   "metadata": {
    "colab": {
     "base_uri": "https://localhost:8080/",
     "height": 300
    },
    "colab_type": "code",
    "id": "TMzD5rlhKMl9",
    "outputId": "e5164775-19db-484f-f148-68cf2062d34e"
   },
   "outputs": [
    {
     "data": {
      "text/plain": [
       "<matplotlib.legend.Legend at 0x28d486f160>"
      ]
     },
     "execution_count": 17,
     "metadata": {},
     "output_type": "execute_result"
    },
    {
     "data": {
      "image/png": "[encoded data removed]",
      "text/plain": [
       "<Figure size 432x288 with 1 Axes>"
      ]
     },
     "metadata": {
      "needs_background": "light"
     },
     "output_type": "display_data"
    }
   ],
   "source": [
    "import matplotlib\n",
    "import matplotlib.pyplot as plt\n",
    "from sklearn.manifold import TSNE\n",
    "\n",
    "# Sampling a subset of our dataset because t-SNE is computationally expensive\n",
    "SAMPLE_SIZE = int(len(features) * 0.3)\n",
    "np.random.seed(0)\n",
    "indices = np.random.choice(range(len(features)), size=SAMPLE_SIZE, replace=False)\n",
    "projected_features = TSNE(n_components=2, random_state=0).fit_transform(features[indices])\n",
    "colors = ['pink', 'green', 'midnightblue', 'orange', 'darkgrey']\n",
    "for category, category_id in sorted(category_to_id.items()):\n",
    "    points = projected_features[(labels[indices] == category_id).values]\n",
    "    plt.scatter(points[:, 0], points[:, 1], s=30, c=colors[category_id], label=category)\n",
    "plt.title(\"tf-idf feature vector for each article, projected on 2 dimensions.\",\n",
    "          fontdict=dict(fontsize=15))\n",
    "plt.legend()"
   ]
  },
  {
   "cell_type": "markdown",
   "metadata": {
    "colab_type": "text",
    "id": "8XOO-Ws1ERGy"
   },
   "source": [
    "More good news! We can clearly see that different article categories fall in different areas, which means that we should expect this problem to be easily solvable, achieving good performance.\n",
    "\n",
    "One thing to note however is the presence of some *outliers*: points from a category falling in the middle of a different category. One of these outliers is a business article about the football club Arsenal, falling in the middle of a sport cluster:"
   ]
  },
  {
   "cell_type": "code",
   "execution_count": 18,
   "metadata": {
    "colab": {
     "base_uri": "https://localhost:8080/",
     "height": 1969
    },
    "colab_type": "code",
    "id": "s5fao3PD4ki9",
    "outputId": "a54cf3c1-cd0b-46a5-cce0-7435f70091f3"
   },
   "outputs": [
    {
     "data": {
      "text/html": [
       "<div>\n",
       "<style scoped>\n",
       "    .dataframe tbody tr th:only-of-type {\n",
       "        vertical-align: middle;\n",
       "    }\n",
       "\n",
       "    .dataframe tbody tr th {\n",
       "        vertical-align: top;\n",
       "    }\n",
       "\n",
       "    .dataframe thead th {\n",
       "        text-align: right;\n",
       "    }\n",
       "</style>\n",
       "<table border=\"1\" class=\"dataframe\">\n",
       "  <thead>\n",
       "    <tr style=\"text-align: right;\">\n",
       "      <th></th>\n",
       "      <th>category</th>\n",
       "      <th>text</th>\n",
       "      <th>category_id</th>\n",
       "    </tr>\n",
       "  </thead>\n",
       "  <tbody>\n",
       "    <tr>\n",
       "      <th>12</th>\n",
       "      <td>business</td>\n",
       "      <td>crude oil prices back above $50 cold weather a...</td>\n",
       "      <td>1</td>\n",
       "    </tr>\n",
       "    <tr>\n",
       "      <th>59</th>\n",
       "      <td>business</td>\n",
       "      <td>us regulator to rule on pain drug us food and ...</td>\n",
       "      <td>1</td>\n",
       "    </tr>\n",
       "    <tr>\n",
       "      <th>62</th>\n",
       "      <td>business</td>\n",
       "      <td>court rejects $280bn tobacco case a us governm...</td>\n",
       "      <td>1</td>\n",
       "    </tr>\n",
       "    <tr>\n",
       "      <th>110</th>\n",
       "      <td>business</td>\n",
       "      <td>us trade gap hits record in 2004 the gap betwe...</td>\n",
       "      <td>1</td>\n",
       "    </tr>\n",
       "    <tr>\n",
       "      <th>125</th>\n",
       "      <td>business</td>\n",
       "      <td>us crude prices surge above $53 us crude price...</td>\n",
       "      <td>1</td>\n",
       "    </tr>\n",
       "    <tr>\n",
       "      <th>131</th>\n",
       "      <td>entertainment</td>\n",
       "      <td>film production  falls  40% in uk the number o...</td>\n",
       "      <td>3</td>\n",
       "    </tr>\n",
       "    <tr>\n",
       "      <th>134</th>\n",
       "      <td>business</td>\n",
       "      <td>dollar hovers around record lows the us dollar...</td>\n",
       "      <td>1</td>\n",
       "    </tr>\n",
       "    <tr>\n",
       "      <th>140</th>\n",
       "      <td>business</td>\n",
       "      <td>disaster claims  less than $10bn  insurers hav...</td>\n",
       "      <td>1</td>\n",
       "    </tr>\n",
       "    <tr>\n",
       "      <th>145</th>\n",
       "      <td>business</td>\n",
       "      <td>industrial output falls in japan japanese indu...</td>\n",
       "      <td>1</td>\n",
       "    </tr>\n",
       "    <tr>\n",
       "      <th>165</th>\n",
       "      <td>business</td>\n",
       "      <td>economy  strong  in election year uk businesse...</td>\n",
       "      <td>1</td>\n",
       "    </tr>\n",
       "    <tr>\n",
       "      <th>172</th>\n",
       "      <td>business</td>\n",
       "      <td>australia rates at four year high australia is...</td>\n",
       "      <td>1</td>\n",
       "    </tr>\n",
       "    <tr>\n",
       "      <th>175</th>\n",
       "      <td>business</td>\n",
       "      <td>chinese exports rise 25% in 2004 exports from ...</td>\n",
       "      <td>1</td>\n",
       "    </tr>\n",
       "    <tr>\n",
       "      <th>191</th>\n",
       "      <td>business</td>\n",
       "      <td>the  ticking budget  facing the us the budget ...</td>\n",
       "      <td>1</td>\n",
       "    </tr>\n",
       "    <tr>\n",
       "      <th>235</th>\n",
       "      <td>business</td>\n",
       "      <td>consumer spending lifts us growth us economic ...</td>\n",
       "      <td>1</td>\n",
       "    </tr>\n",
       "    <tr>\n",
       "      <th>237</th>\n",
       "      <td>business</td>\n",
       "      <td>brewers  profits lose their fizz heineken and ...</td>\n",
       "      <td>1</td>\n",
       "    </tr>\n",
       "    <tr>\n",
       "      <th>268</th>\n",
       "      <td>business</td>\n",
       "      <td>ex-boeing director gets jail term an ex-chief ...</td>\n",
       "      <td>1</td>\n",
       "    </tr>\n",
       "    <tr>\n",
       "      <th>273</th>\n",
       "      <td>entertainment</td>\n",
       "      <td>us critics laud comedy sideways road trip come...</td>\n",
       "      <td>3</td>\n",
       "    </tr>\n",
       "    <tr>\n",
       "      <th>302</th>\n",
       "      <td>business</td>\n",
       "      <td>quiksilver moves for rossignol shares of skis ...</td>\n",
       "      <td>1</td>\n",
       "    </tr>\n",
       "    <tr>\n",
       "      <th>304</th>\n",
       "      <td>business</td>\n",
       "      <td>india s rupee hits five-year high india s rupe...</td>\n",
       "      <td>1</td>\n",
       "    </tr>\n",
       "    <tr>\n",
       "      <th>320</th>\n",
       "      <td>business</td>\n",
       "      <td>madagascar completes currency switch madagasca...</td>\n",
       "      <td>1</td>\n",
       "    </tr>\n",
       "    <tr>\n",
       "      <th>333</th>\n",
       "      <td>business</td>\n",
       "      <td>ecb holds rates amid growth fears the european...</td>\n",
       "      <td>1</td>\n",
       "    </tr>\n",
       "    <tr>\n",
       "      <th>362</th>\n",
       "      <td>business</td>\n",
       "      <td>japanese growth grinds to a halt growth in jap...</td>\n",
       "      <td>1</td>\n",
       "    </tr>\n",
       "    <tr>\n",
       "      <th>373</th>\n",
       "      <td>entertainment</td>\n",
       "      <td>aviator  creator  in oscars snub the man who s...</td>\n",
       "      <td>3</td>\n",
       "    </tr>\n",
       "    <tr>\n",
       "      <th>388</th>\n",
       "      <td>business</td>\n",
       "      <td>dollar hits new low versus euro the us dollar ...</td>\n",
       "      <td>1</td>\n",
       "    </tr>\n",
       "    <tr>\n",
       "      <th>391</th>\n",
       "      <td>business</td>\n",
       "      <td>industrial revival hope for japan japanese ind...</td>\n",
       "      <td>1</td>\n",
       "    </tr>\n",
       "    <tr>\n",
       "      <th>393</th>\n",
       "      <td>business</td>\n",
       "      <td>markets signal brazilian recovery the brazilia...</td>\n",
       "      <td>1</td>\n",
       "    </tr>\n",
       "    <tr>\n",
       "      <th>407</th>\n",
       "      <td>business</td>\n",
       "      <td>bush to get  tough  on deficit us president ge...</td>\n",
       "      <td>1</td>\n",
       "    </tr>\n",
       "    <tr>\n",
       "      <th>415</th>\n",
       "      <td>business</td>\n",
       "      <td>wmc profits up amid bid criticism australian m...</td>\n",
       "      <td>1</td>\n",
       "    </tr>\n",
       "    <tr>\n",
       "      <th>528</th>\n",
       "      <td>entertainment</td>\n",
       "      <td>us charity anthem is re-released we are the wo...</td>\n",
       "      <td>3</td>\n",
       "    </tr>\n",
       "    <tr>\n",
       "      <th>543</th>\n",
       "      <td>business</td>\n",
       "      <td>economy  strong  in election year uk businesse...</td>\n",
       "      <td>1</td>\n",
       "    </tr>\n",
       "    <tr>\n",
       "      <th>...</th>\n",
       "      <td>...</td>\n",
       "      <td>...</td>\n",
       "      <td>...</td>\n",
       "    </tr>\n",
       "    <tr>\n",
       "      <th>1751</th>\n",
       "      <td>entertainment</td>\n",
       "      <td>foxx and swank win us awards jamie foxx and hi...</td>\n",
       "      <td>3</td>\n",
       "    </tr>\n",
       "    <tr>\n",
       "      <th>1753</th>\n",
       "      <td>business</td>\n",
       "      <td>wembley firm won t make a profit shares in mul...</td>\n",
       "      <td>1</td>\n",
       "    </tr>\n",
       "    <tr>\n",
       "      <th>1778</th>\n",
       "      <td>business</td>\n",
       "      <td>water firm suez in argentina row a conflict be...</td>\n",
       "      <td>1</td>\n",
       "    </tr>\n",
       "    <tr>\n",
       "      <th>1793</th>\n",
       "      <td>entertainment</td>\n",
       "      <td>de niro film leads us box office film star rob...</td>\n",
       "      <td>3</td>\n",
       "    </tr>\n",
       "    <tr>\n",
       "      <th>1801</th>\n",
       "      <td>business</td>\n",
       "      <td>continental  may run out of cash  shares in co...</td>\n",
       "      <td>1</td>\n",
       "    </tr>\n",
       "    <tr>\n",
       "      <th>1812</th>\n",
       "      <td>business</td>\n",
       "      <td>fannie mae  should restate books  us mortgage ...</td>\n",
       "      <td>1</td>\n",
       "    </tr>\n",
       "    <tr>\n",
       "      <th>1823</th>\n",
       "      <td>business</td>\n",
       "      <td>qantas considers offshore option australian ai...</td>\n",
       "      <td>1</td>\n",
       "    </tr>\n",
       "    <tr>\n",
       "      <th>1916</th>\n",
       "      <td>entertainment</td>\n",
       "      <td>wine comedy wins critics  award quirky comedy ...</td>\n",
       "      <td>3</td>\n",
       "    </tr>\n",
       "    <tr>\n",
       "      <th>1935</th>\n",
       "      <td>politics</td>\n",
       "      <td>lib dems stress budget trust gap public trust ...</td>\n",
       "      <td>4</td>\n",
       "    </tr>\n",
       "    <tr>\n",
       "      <th>1953</th>\n",
       "      <td>business</td>\n",
       "      <td>business confidence dips in japan business con...</td>\n",
       "      <td>1</td>\n",
       "    </tr>\n",
       "    <tr>\n",
       "      <th>1954</th>\n",
       "      <td>business</td>\n",
       "      <td>weak dollar trims cadbury profits the world s ...</td>\n",
       "      <td>1</td>\n",
       "    </tr>\n",
       "    <tr>\n",
       "      <th>1973</th>\n",
       "      <td>entertainment</td>\n",
       "      <td>smith loses us box office crown new comedy dia...</td>\n",
       "      <td>3</td>\n",
       "    </tr>\n",
       "    <tr>\n",
       "      <th>2001</th>\n",
       "      <td>business</td>\n",
       "      <td>china continues rapid growth china s economy h...</td>\n",
       "      <td>1</td>\n",
       "    </tr>\n",
       "    <tr>\n",
       "      <th>2012</th>\n",
       "      <td>entertainment</td>\n",
       "      <td>boogeyman takes box office lead the low-budget...</td>\n",
       "      <td>3</td>\n",
       "    </tr>\n",
       "    <tr>\n",
       "      <th>2033</th>\n",
       "      <td>business</td>\n",
       "      <td>car giant hit by mercedes slump a slump in pro...</td>\n",
       "      <td>1</td>\n",
       "    </tr>\n",
       "    <tr>\n",
       "      <th>2047</th>\n",
       "      <td>business</td>\n",
       "      <td>bombardier chief to leave company shares in tr...</td>\n",
       "      <td>1</td>\n",
       "    </tr>\n",
       "    <tr>\n",
       "      <th>2055</th>\n",
       "      <td>business</td>\n",
       "      <td>jobs growth still slow in the us the us create...</td>\n",
       "      <td>1</td>\n",
       "    </tr>\n",
       "    <tr>\n",
       "      <th>2071</th>\n",
       "      <td>business</td>\n",
       "      <td>lesotho textile workers lose jobs six foreign-...</td>\n",
       "      <td>1</td>\n",
       "    </tr>\n",
       "    <tr>\n",
       "      <th>2078</th>\n",
       "      <td>entertainment</td>\n",
       "      <td>horror film heads us box office a low-budget h...</td>\n",
       "      <td>3</td>\n",
       "    </tr>\n",
       "    <tr>\n",
       "      <th>2092</th>\n",
       "      <td>business</td>\n",
       "      <td>us interest rate rise expected us interest rat...</td>\n",
       "      <td>1</td>\n",
       "    </tr>\n",
       "    <tr>\n",
       "      <th>2106</th>\n",
       "      <td>business</td>\n",
       "      <td>us trade deficit widens sharply the gap betwee...</td>\n",
       "      <td>1</td>\n",
       "    </tr>\n",
       "    <tr>\n",
       "      <th>2122</th>\n",
       "      <td>entertainment</td>\n",
       "      <td>spider-man creator wins profits spider-man cre...</td>\n",
       "      <td>3</td>\n",
       "    </tr>\n",
       "    <tr>\n",
       "      <th>2129</th>\n",
       "      <td>business</td>\n",
       "      <td>strong dollar  call halts slide the us dollar ...</td>\n",
       "      <td>1</td>\n",
       "    </tr>\n",
       "    <tr>\n",
       "      <th>2163</th>\n",
       "      <td>business</td>\n",
       "      <td>asia shares defy post-quake gloom indonesian  ...</td>\n",
       "      <td>1</td>\n",
       "    </tr>\n",
       "    <tr>\n",
       "      <th>2168</th>\n",
       "      <td>business</td>\n",
       "      <td>mci shareholder sues to stop bid a shareholder...</td>\n",
       "      <td>1</td>\n",
       "    </tr>\n",
       "    <tr>\n",
       "      <th>2178</th>\n",
       "      <td>entertainment</td>\n",
       "      <td>hollywood ready for oscars night hollywood is ...</td>\n",
       "      <td>3</td>\n",
       "    </tr>\n",
       "    <tr>\n",
       "      <th>2186</th>\n",
       "      <td>business</td>\n",
       "      <td>battered dollar hits another low the dollar ha...</td>\n",
       "      <td>1</td>\n",
       "    </tr>\n",
       "    <tr>\n",
       "      <th>2194</th>\n",
       "      <td>business</td>\n",
       "      <td>india-pakistan peace boosts trade calmer relat...</td>\n",
       "      <td>1</td>\n",
       "    </tr>\n",
       "    <tr>\n",
       "      <th>2198</th>\n",
       "      <td>business</td>\n",
       "      <td>asian banks halt dollar s slide the dollar reg...</td>\n",
       "      <td>1</td>\n",
       "    </tr>\n",
       "    <tr>\n",
       "      <th>2214</th>\n",
       "      <td>business</td>\n",
       "      <td>bush budget seeks deep cutbacks president bush...</td>\n",
       "      <td>1</td>\n",
       "    </tr>\n",
       "  </tbody>\n",
       "</table>\n",
       "<p>131 rows × 3 columns</p>\n",
       "</div>"
      ],
      "text/plain": [
       "           category                                               text  \\\n",
       "12         business  crude oil prices back above $50 cold weather a...   \n",
       "59         business  us regulator to rule on pain drug us food and ...   \n",
       "62         business  court rejects $280bn tobacco case a us governm...   \n",
       "110        business  us trade gap hits record in 2004 the gap betwe...   \n",
       "125        business  us crude prices surge above $53 us crude price...   \n",
       "131   entertainment  film production  falls  40% in uk the number o...   \n",
       "134        business  dollar hovers around record lows the us dollar...   \n",
       "140        business  disaster claims  less than $10bn  insurers hav...   \n",
       "145        business  industrial output falls in japan japanese indu...   \n",
       "165        business  economy  strong  in election year uk businesse...   \n",
       "172        business  australia rates at four year high australia is...   \n",
       "175        business  chinese exports rise 25% in 2004 exports from ...   \n",
       "191        business  the  ticking budget  facing the us the budget ...   \n",
       "235        business  consumer spending lifts us growth us economic ...   \n",
       "237        business  brewers  profits lose their fizz heineken and ...   \n",
       "268        business  ex-boeing director gets jail term an ex-chief ...   \n",
       "273   entertainment  us critics laud comedy sideways road trip come...   \n",
       "302        business  quiksilver moves for rossignol shares of skis ...   \n",
       "304        business  india s rupee hits five-year high india s rupe...   \n",
       "320        business  madagascar completes currency switch madagasca...   \n",
       "333        business  ecb holds rates amid growth fears the european...   \n",
       "362        business  japanese growth grinds to a halt growth in jap...   \n",
       "373   entertainment  aviator  creator  in oscars snub the man who s...   \n",
       "388        business  dollar hits new low versus euro the us dollar ...   \n",
       "391        business  industrial revival hope for japan japanese ind...   \n",
       "393        business  markets signal brazilian recovery the brazilia...   \n",
       "407        business  bush to get  tough  on deficit us president ge...   \n",
       "415        business  wmc profits up amid bid criticism australian m...   \n",
       "528   entertainment  us charity anthem is re-released we are the wo...   \n",
       "543        business  economy  strong  in election year uk businesse...   \n",
       "...             ...                                                ...   \n",
       "1751  entertainment  foxx and swank win us awards jamie foxx and hi...   \n",
       "1753       business  wembley firm won t make a profit shares in mul...   \n",
       "1778       business  water firm suez in argentina row a conflict be...   \n",
       "1793  entertainment  de niro film leads us box office film star rob...   \n",
       "1801       business  continental  may run out of cash  shares in co...   \n",
       "1812       business  fannie mae  should restate books  us mortgage ...   \n",
       "1823       business  qantas considers offshore option australian ai...   \n",
       "1916  entertainment  wine comedy wins critics  award quirky comedy ...   \n",
       "1935       politics  lib dems stress budget trust gap public trust ...   \n",
       "1953       business  business confidence dips in japan business con...   \n",
       "1954       business  weak dollar trims cadbury profits the world s ...   \n",
       "1973  entertainment  smith loses us box office crown new comedy dia...   \n",
       "2001       business  china continues rapid growth china s economy h...   \n",
       "2012  entertainment  boogeyman takes box office lead the low-budget...   \n",
       "2033       business  car giant hit by mercedes slump a slump in pro...   \n",
       "2047       business  bombardier chief to leave company shares in tr...   \n",
       "2055       business  jobs growth still slow in the us the us create...   \n",
       "2071       business  lesotho textile workers lose jobs six foreign-...   \n",
       "2078  entertainment  horror film heads us box office a low-budget h...   \n",
       "2092       business  us interest rate rise expected us interest rat...   \n",
       "2106       business  us trade deficit widens sharply the gap betwee...   \n",
       "2122  entertainment  spider-man creator wins profits spider-man cre...   \n",
       "2129       business  strong dollar  call halts slide the us dollar ...   \n",
       "2163       business  asia shares defy post-quake gloom indonesian  ...   \n",
       "2168       business  mci shareholder sues to stop bid a shareholder...   \n",
       "2178  entertainment  hollywood ready for oscars night hollywood is ...   \n",
       "2186       business  battered dollar hits another low the dollar ha...   \n",
       "2194       business  india-pakistan peace boosts trade calmer relat...   \n",
       "2198       business  asian banks halt dollar s slide the dollar reg...   \n",
       "2214       business  bush budget seeks deep cutbacks president bush...   \n",
       "\n",
       "      category_id  \n",
       "12              1  \n",
       "59              1  \n",
       "62              1  \n",
       "110             1  \n",
       "125             1  \n",
       "131             3  \n",
       "134             1  \n",
       "140             1  \n",
       "145             1  \n",
       "165             1  \n",
       "172             1  \n",
       "175             1  \n",
       "191             1  \n",
       "235             1  \n",
       "237             1  \n",
       "268             1  \n",
       "273             3  \n",
       "302             1  \n",
       "304             1  \n",
       "320             1  \n",
       "333             1  \n",
       "362             1  \n",
       "373             3  \n",
       "388             1  \n",
       "391             1  \n",
       "393             1  \n",
       "407             1  \n",
       "415             1  \n",
       "528             3  \n",
       "543             1  \n",
       "...           ...  \n",
       "1751            3  \n",
       "1753            1  \n",
       "1778            1  \n",
       "1793            3  \n",
       "1801            1  \n",
       "1812            1  \n",
       "1823            1  \n",
       "1916            3  \n",
       "1935            4  \n",
       "1953            1  \n",
       "1954            1  \n",
       "1973            3  \n",
       "2001            1  \n",
       "2012            3  \n",
       "2033            1  \n",
       "2047            1  \n",
       "2055            1  \n",
       "2071            1  \n",
       "2078            3  \n",
       "2092            1  \n",
       "2106            1  \n",
       "2122            3  \n",
       "2129            1  \n",
       "2163            1  \n",
       "2168            1  \n",
       "2178            3  \n",
       "2186            1  \n",
       "2194            1  \n",
       "2198            1  \n",
       "2214            1  \n",
       "\n",
       "[131 rows x 3 columns]"
      ]
     },
     "execution_count": 18,
     "metadata": {},
     "output_type": "execute_result"
    }
   ],
   "source": [
    "df[df.text.str.contains('dollar')]"
   ]
  },
  {
   "cell_type": "markdown",
   "metadata": {
    "colab_type": "text",
    "id": "yPrfxDfoE6K8"
   },
   "source": [
    "These outliers are expected, and there's often little we can do as trying to correctly label **all** points in our dataset will only lead to **overfitting**: building an overly complex model that does not generalize well to unseen datapoints. "
   ]
  },
  {
   "cell_type": "markdown",
   "metadata": {
    "colab_type": "text",
    "id": "1XwFNO4re_Fz"
   },
   "source": [
    "## 3. Model training and evaluation"
   ]
  },
  {
   "cell_type": "markdown",
   "metadata": {
    "colab_type": "text",
    "id": "GqNU7c6bFcGi"
   },
   "source": [
    "With this initial data exploration achieved, we are now more familiar with the way data is represented, and relatively confident that Machine Learning is a good fit to solve our classification problem. We are now ready to experiment with different machine learning models, evaluate their accuracy and find the source of any potential issues.\n",
    "\n",
    "### Metrics\n",
    "\n",
    "First, it is vital to choose which metric to optimize. Accuracy (the % of correct classifications) is the most commonly used metric, but it is not always the right choice: if we are trying to detect fraudulent users on a website, which might constitute only 0.01% of the total number of users, a model that would classify **all** users as being non-fraudulent would have 99.99% accuracy! Because of this, we must carefully choose the right metric based on the task we are trying to solve.\n",
    "Here, we are dealing with a multi-class classification task (trying to assign one label to each document, out of a number of labels). Given the relative balance of our dataset, accuracy does seem like a good metric to optimize for. If one of the labels was more important than the others, we would then weight it higher, or focus on its own results. For imbalanced datasets such as the one described above, it is common to look at the [ROC curve](https://en.wikipedia.org/wiki/Receiver_operating_characteristic), and optimize the Area Under the Curve (ROC AUC)."
   ]
  },
  {
   "cell_type": "markdown",
   "metadata": {
    "colab_type": "text",
    "id": "cKfc9Zy6hrEj"
   },
   "source": [
    "### Choice of model, and *no free lunch*\n",
    "\n",
    "`sklearn` provides implementations for a large number of machine learning models, spanning over different families:\n",
    "\n",
    "- Linear models: Linear Regression, Logistic Regression, ...\n",
    "- Ensemble models: Random Forest, Gradient Boosting Trees, Adaboost, ...\n",
    "- Bayesian models: (Multinomial/Gaussian/...) Naive Bayes, Gaussian Processes, ...\n",
    "- Support Vector Machines, k-Nearest Neighbors, and various other models.\n",
    "\n",
    "\n",
    "`sklearn` however does not implement deep learning models (implemented in other libraries: `tensorflow`, `theano`, `pytorch`, ...) or more specialized models such as Bayesian graphical models, or sequenced-based models (Markov Chain, Hidden Markov Model, ...).\n",
    "\n",
    "Ultimately, there is *no silver bullet*. This is a core principle of machine learning, illustrated by the *no free lunch* theorem: \"any two optimization algorithms are equivalent when their performance is averaged across all possible problems\", or in more practical terms: no model is universally superior to all other models, and the performance of a model greatly depends on the distribution of the data trained on and evaluated against.\n",
    "\n",
    "Hence, we will benchmark the following three models:\n",
    "\n",
    "- Logistic Regression: A linear classifier, mostly similar to traditional linear regression, but fitting the output of the logistic function.\n",
    "- (Multinomial) Naive Bayes: A Bayesian model, assuming total independence between features. In our case, this means assuming that `P(\"football\")` is unrelated to `P(\"stadium\")`, which of course is a terrible assumption... and yet, this model still works surprisingly well with Bag of Words model, and were notably used for spam detection. \n",
    "- Random Forest: Random Forest (as the name might suggest) is the ensembling of a large number of decision trees, each trained on a random subset of the input features. They work well when complex feature-relations are involved, and are relatively robust to overfitting. \n",
    "\n",
    "We usually also perform a **hyperparameter search** for each model: tuning each of its \"knobs\" (number of trees for Random Forest, penalty for Logistic Regression) until we find the optimal ones. For simplicity, we skip this step below and directly provide reasonably good parameters for each model."
   ]
  },
  {
   "cell_type": "markdown",
   "metadata": {
    "colab_type": "text",
    "id": "pJ_l3zrQhuAv"
   },
   "source": [
    "### Model evaluation\n",
    "One common mistake when evaluating a model is to train and test it on the same dataset: this is problematic because you this will not evaluate how well the model works in realistic conditions, on unseen data, and models that overfit to the data will seem to perform better. \n",
    "\n",
    "It is common practice to split the data in three parts:\n",
    "1. A training set that the model will be trained on.\n",
    "1. A validation set used for finding the optimal parameters (as discussed previously).\n",
    "1. A test set to evaluate the model’s performance.\n",
    "\n",
    "Since we are not performing a hyperparameter search, we will only use a train/test split.\n",
    "\n",
    "To evaluate each model, we will use the K-fold cross-validation technique: iteratively training the model on different subsets of the data, and testing against the held-out data. scikit-learn provides a utility function, `cross_val_score`, that allows us to run this operation in a single line of code!"
   ]
  },
  {
   "cell_type": "code",
   "execution_count": 19,
   "metadata": {
    "colab": {
     "base_uri": "https://localhost:8080/",
     "height": 377
    },
    "colab_type": "code",
    "id": "MPI84Fkoel-a",
    "outputId": "68dc8462-f2e1-4f54-bc5c-bf6d982e787c"
   },
   "outputs": [
    {
     "name": "stderr",
     "output_type": "stream",
     "text": [
      "C:\\Users\\1\\Anaconda2\\envs\\Python\\lib\\site-packages\\sklearn\\linear_model\\logistic.py:433: FutureWarning: Default solver will be changed to 'lbfgs' in 0.22. Specify a solver to silence this warning.\n",
      "  FutureWarning)\n",
      "C:\\Users\\1\\Anaconda2\\envs\\Python\\lib\\site-packages\\sklearn\\linear_model\\logistic.py:460: FutureWarning: Default multi_class will be changed to 'auto' in 0.22. Specify the multi_class option to silence this warning.\n",
      "  \"this warning.\", FutureWarning)\n",
      "C:\\Users\\1\\Anaconda2\\envs\\Python\\lib\\site-packages\\sklearn\\linear_model\\logistic.py:433: FutureWarning: Default solver will be changed to 'lbfgs' in 0.22. Specify a solver to silence this warning.\n",
      "  FutureWarning)\n",
      "C:\\Users\\1\\Anaconda2\\envs\\Python\\lib\\site-packages\\sklearn\\linear_model\\logistic.py:460: FutureWarning: Default multi_class will be changed to 'auto' in 0.22. Specify the multi_class option to silence this warning.\n",
      "  \"this warning.\", FutureWarning)\n",
      "C:\\Users\\1\\Anaconda2\\envs\\Python\\lib\\site-packages\\sklearn\\linear_model\\logistic.py:433: FutureWarning: Default solver will be changed to 'lbfgs' in 0.22. Specify a solver to silence this warning.\n",
      "  FutureWarning)\n",
      "C:\\Users\\1\\Anaconda2\\envs\\Python\\lib\\site-packages\\sklearn\\linear_model\\logistic.py:460: FutureWarning: Default multi_class will be changed to 'auto' in 0.22. Specify the multi_class option to silence this warning.\n",
      "  \"this warning.\", FutureWarning)\n",
      "C:\\Users\\1\\Anaconda2\\envs\\Python\\lib\\site-packages\\sklearn\\linear_model\\logistic.py:433: FutureWarning: Default solver will be changed to 'lbfgs' in 0.22. Specify a solver to silence this warning.\n",
      "  FutureWarning)\n",
      "C:\\Users\\1\\Anaconda2\\envs\\Python\\lib\\site-packages\\sklearn\\linear_model\\logistic.py:460: FutureWarning: Default multi_class will be changed to 'auto' in 0.22. Specify the multi_class option to silence this warning.\n",
      "  \"this warning.\", FutureWarning)\n",
      "C:\\Users\\1\\Anaconda2\\envs\\Python\\lib\\site-packages\\sklearn\\linear_model\\logistic.py:433: FutureWarning: Default solver will be changed to 'lbfgs' in 0.22. Specify a solver to silence this warning.\n",
      "  FutureWarning)\n",
      "C:\\Users\\1\\Anaconda2\\envs\\Python\\lib\\site-packages\\sklearn\\linear_model\\logistic.py:460: FutureWarning: Default multi_class will be changed to 'auto' in 0.22. Specify the multi_class option to silence this warning.\n",
      "  \"this warning.\", FutureWarning)\n"
     ]
    }
   ],
   "source": [
    "from sklearn.linear_model import LogisticRegression\n",
    "from sklearn.ensemble import RandomForestClassifier\n",
    "from sklearn.naive_bayes import MultinomialNB\n",
    "\n",
    "from sklearn.model_selection import cross_val_score\n",
    "\n",
    "\n",
    "models = [\n",
    "    RandomForestClassifier(n_estimators=200, max_depth=3, random_state=0),\n",
    "    MultinomialNB(),\n",
    "    LogisticRegression(random_state=0),\n",
    "]\n",
    "CV = 5\n",
    "cv_df = pd.DataFrame(index=range(CV * len(models)))\n",
    "entries = []\n",
    "for model in models:\n",
    "    model_name = model.__class__.__name__\n",
    "    accuracies = cross_val_score(model, features, labels, scoring='accuracy', cv=CV)\n",
    "    for fold_idx, accuracy in enumerate(accuracies):\n",
    "        entries.append((model_name, fold_idx, accuracy))\n",
    "cv_df = pd.DataFrame(entries, columns=['model_name', 'fold_idx', 'accuracy'])"
   ]
  },
  {
   "cell_type": "code",
   "execution_count": 20,
   "metadata": {
    "colab": {
     "base_uri": "https://localhost:8080/",
     "height": 301
    },
    "colab_type": "code",
    "id": "njwq4ZqntBXn",
    "outputId": "d9c3b7bf-73d4-467a-c8e6-5996a3ce0a8c"
   },
   "outputs": [
    {
     "data": {
      "text/plain": [
       "<matplotlib.axes._subplots.AxesSubplot at 0x28d4e54ba8>"
      ]
     },
     "execution_count": 20,
     "metadata": {},
     "output_type": "execute_result"
    },
    {
     "data": {
      "image/png": "[encoded data removed]",
      "text/plain": [
       "<Figure size 432x288 with 1 Axes>"
      ]
     },
     "metadata": {
      "needs_background": "light"
     },
     "output_type": "display_data"
    }
   ],
   "source": [
    "import seaborn as sns\n",
    "sns.boxplot(x='model_name', y='accuracy', data=cv_df)\n",
    "sns.stripplot(x='model_name', y='accuracy', data=cv_df, \n",
    "              size=8, jitter=True, edgecolor=\"gray\", linewidth=2)"
   ]
  },
  {
   "cell_type": "code",
   "execution_count": 21,
   "metadata": {
    "colab": {
     "base_uri": "https://localhost:8080/",
     "height": 102
    },
    "colab_type": "code",
    "id": "-DX1gVduotvA",
    "outputId": "98276336-a640-48a5-ef15-f2f0040a60de"
   },
   "outputs": [
    {
     "data": {
      "text/plain": [
       "model_name\n",
       "LogisticRegression        0.979782\n",
       "MultinomialNB             0.970783\n",
       "RandomForestClassifier    0.830570\n",
       "Name: accuracy, dtype: float64"
      ]
     },
     "execution_count": 21,
     "metadata": {},
     "output_type": "execute_result"
    }
   ],
   "source": [
    "cv_df.groupby('model_name').accuracy.mean()"
   ]
  },
  {
   "cell_type": "markdown",
   "metadata": {
    "colab_type": "text",
    "id": "ukL-IF2CnHa_"
   },
   "source": [
    "The results for the `RandomForest` model show a large variance, the sign of a model that is overfitting to its training data. Running cross-validation is vital, because results from a single train/test split might be misleading.\n",
    "We also notice that both `MultinomialNB` (Naive Bayes) and `LogisticRegression` perform extremely well, with `LogisticRegression` having a slight advantage with a median accuracy of around 97%!\n",
    "With such results, we could just pack our things and consider the task complete, but it’s good to apply a healthy dose of skepticism especially when results are this good."
   ]
  },
  {
   "cell_type": "markdown",
   "metadata": {
    "colab_type": "text",
    "id": "UWZJZ9OyqCmJ"
   },
   "source": [
    "### 4. Model interpretation\n",
    "\n",
    "It is insufficient to have a model that performs well according to a given metric: we must also have a model that we can understand and whose results we can explain.\n",
    "\n",
    "We will start by training our model on part of the dataset, and then analyze the main sources of misclassification on the test set. One way to eliminate sources of error is to look at the confusion matrix, a matrix used to show the discrepancies between predicted and actual labels."
   ]
  },
  {
   "cell_type": "code",
   "execution_count": 22,
   "metadata": {
    "colab": {
     "base_uri": "https://localhost:8080/",
     "height": 105
    },
    "colab_type": "code",
    "id": "zE5u-IEa5gnj",
    "outputId": "ee5e3ca3-2a03-408e-cbdd-529242cc7f07"
   },
   "outputs": [
    {
     "name": "stderr",
     "output_type": "stream",
     "text": [
      "C:\\Users\\1\\Anaconda2\\envs\\Python\\lib\\site-packages\\sklearn\\linear_model\\logistic.py:433: FutureWarning: Default solver will be changed to 'lbfgs' in 0.22. Specify a solver to silence this warning.\n",
      "  FutureWarning)\n",
      "C:\\Users\\1\\Anaconda2\\envs\\Python\\lib\\site-packages\\sklearn\\linear_model\\logistic.py:460: FutureWarning: Default multi_class will be changed to 'auto' in 0.22. Specify the multi_class option to silence this warning.\n",
      "  \"this warning.\", FutureWarning)\n"
     ]
    }
   ],
   "source": [
    "from sklearn.model_selection import train_test_split\n",
    "\n",
    "model = LogisticRegression(random_state=0)\n",
    "\n",
    "X_train, X_test, y_train, y_test, indices_train, indices_test = train_test_split(features, labels, df.index, test_size=0.33, random_state=0)\n",
    "model.fit(X_train, y_train)\n",
    "y_pred_proba = model.predict_proba(X_test)\n",
    "y_pred = model.predict(X_test)"
   ]
  },
  {
   "cell_type": "code",
   "execution_count": 23,
   "metadata": {
    "colab": {
     "base_uri": "https://localhost:8080/",
     "height": 362
    },
    "colab_type": "code",
    "id": "gYv3Q-gJ68ib",
    "outputId": "8183a6b8-5c26-4142-e2dc-008cb2b8c5cc"
   },
   "outputs": [
    {
     "data": {
      "text/plain": [
       "Text(0.5, 15.0, 'Predicted')"
      ]
     },
     "execution_count": 23,
     "metadata": {},
     "output_type": "execute_result"
    },
    {
     "data": {
      "image/png": "[encoded data removed]",
      "text/plain": [
       "<Figure size 432x288 with 2 Axes>"
      ]
     },
     "metadata": {
      "needs_background": "light"
     },
     "output_type": "display_data"
    }
   ],
   "source": [
    "from sklearn.metrics import confusion_matrix\n",
    "import seaborn as sns\n",
    "\n",
    "conf_mat = confusion_matrix(y_test, y_pred)\n",
    "sns.heatmap(conf_mat, annot=True, fmt='d',\n",
    "            xticklabels=category_id_df.category.values, yticklabels=category_id_df.category.values)\n",
    "plt.ylabel('Actual')\n",
    "plt.xlabel('Predicted')"
   ]
  },
  {
   "cell_type": "markdown",
   "metadata": {
    "colab_type": "text",
    "id": "ylfJ2u4UrbDE"
   },
   "source": [
    "Given the extremely high accuracy of our model, the vast majority of the predictions end up on the diagonal (predicted label = actual label), where we want them to be! However, there are a number of misclassifications, and it might be interesting to see what those are caused by:"
   ]
  },
  {
   "cell_type": "code",
   "execution_count": 27,
   "metadata": {
    "colab": {
     "base_uri": "https://localhost:8080/",
     "height": 269
    },
    "colab_type": "code",
    "id": "M9Kiqrtf9Gep",
    "outputId": "4d0c1448-89a4-4093-ab4a-605ddfca4a02"
   },
   "outputs": [
    {
     "name": "stdout",
     "output_type": "stream",
     "text": [
      "\n",
      "\n",
      "\n",
      "\n",
      "'business' predicted as 'politics' : 6 examples.\n"
     ]
    },
    {
     "data": {
      "text/html": [
       "<div>\n",
       "<style scoped>\n",
       "    .dataframe tbody tr th:only-of-type {\n",
       "        vertical-align: middle;\n",
       "    }\n",
       "\n",
       "    .dataframe tbody tr th {\n",
       "        vertical-align: top;\n",
       "    }\n",
       "\n",
       "    .dataframe thead th {\n",
       "        text-align: right;\n",
       "    }\n",
       "</style>\n",
       "<table border=\"1\" class=\"dataframe\">\n",
       "  <thead>\n",
       "    <tr style=\"text-align: right;\">\n",
       "      <th></th>\n",
       "      <th>text</th>\n",
       "    </tr>\n",
       "  </thead>\n",
       "  <tbody>\n",
       "    <tr>\n",
       "      <th>1380</th>\n",
       "      <td>world leaders gather to face uncertainty more ...</td>\n",
       "    </tr>\n",
       "    <tr>\n",
       "      <th>2002</th>\n",
       "      <td>salary scandal in cameroon cameroon says wides...</td>\n",
       "    </tr>\n",
       "    <tr>\n",
       "      <th>2201</th>\n",
       "      <td>ban on forced retirement under 65 employers wi...</td>\n",
       "    </tr>\n",
       "    <tr>\n",
       "      <th>1702</th>\n",
       "      <td>call to overhaul uk state pension the uk pensi...</td>\n",
       "    </tr>\n",
       "    <tr>\n",
       "      <th>602</th>\n",
       "      <td>pension hitch for long-living men male life ex...</td>\n",
       "    </tr>\n",
       "    <tr>\n",
       "      <th>1809</th>\n",
       "      <td>golden rule  intact  says ex-aide chancellor g...</td>\n",
       "    </tr>\n",
       "  </tbody>\n",
       "</table>\n",
       "</div>"
      ],
      "text/plain": [
       "                                                   text\n",
       "1380  world leaders gather to face uncertainty more ...\n",
       "2002  salary scandal in cameroon cameroon says wides...\n",
       "2201  ban on forced retirement under 65 employers wi...\n",
       "1702  call to overhaul uk state pension the uk pensi...\n",
       "602   pension hitch for long-living men male life ex...\n",
       "1809  golden rule  intact  says ex-aide chancellor g..."
      ]
     },
     "metadata": {},
     "output_type": "display_data"
    },
    {
     "name": "stdout",
     "output_type": "stream",
     "text": [
      "\n"
     ]
    }
   ],
   "source": [
    "from IPython.display import display\n",
    "\n",
    "for predicted in category_id_df.category_id:\n",
    "    for actual in category_id_df.category_id:\n",
    "        if predicted != actual and conf_mat[actual, predicted] >= 2:\n",
    "            print(\"'{}' predicted as '{}' : {} examples.\".format(id_to_category[actual], id_to_category[predicted], conf_mat[actual, predicted]))\n",
    "            display(df.loc[indices_test[(y_test == actual) & (y_pred == predicted)]][['text']])\n",
    "    print('')"
   ]
  },
  {
   "cell_type": "markdown",
   "metadata": {
    "colab_type": "text",
    "id": "6pQwcaB3rtU8"
   },
   "source": [
    "As can be seen above, the misclassified articles are articles that touch on different subjects (for example, articles involving both politics and business) and might hence even be missclassified by humans. This sort of errors will always happen, and it is unrealistic to aim for a model that achieves 100% accuracy.\n",
    "\n",
    "We can also look deeper inside the model and how it works, by finding which terms contribute the most to a document being classified in each of the categories:"
   ]
  },
  {
   "cell_type": "code",
   "execution_count": 28,
   "metadata": {
    "colab": {
     "base_uri": "https://localhost:8080/",
     "height": 173
    },
    "colab_type": "code",
    "id": "kzO82ptUKMmA",
    "outputId": "e8247fe2-fe81-4e64-de77-ffdee0e79994"
   },
   "outputs": [
    {
     "name": "stderr",
     "output_type": "stream",
     "text": [
      "C:\\Users\\1\\Anaconda2\\envs\\Python\\lib\\site-packages\\sklearn\\linear_model\\logistic.py:433: FutureWarning: Default solver will be changed to 'lbfgs' in 0.22. Specify a solver to silence this warning.\n",
      "  FutureWarning)\n",
      "C:\\Users\\1\\Anaconda2\\envs\\Python\\lib\\site-packages\\sklearn\\linear_model\\logistic.py:460: FutureWarning: Default multi_class will be changed to 'auto' in 0.22. Specify the multi_class option to silence this warning.\n",
      "  \"this warning.\", FutureWarning)\n"
     ]
    },
    {
     "data": {
      "text/plain": [
       "LogisticRegression(C=1.0, class_weight=None, dual=False, fit_intercept=True,\n",
       "          intercept_scaling=1, max_iter=100, multi_class='warn',\n",
       "          n_jobs=None, penalty='l2', random_state=0, solver='warn',\n",
       "          tol=0.0001, verbose=0, warm_start=False)"
      ]
     },
     "execution_count": 28,
     "metadata": {},
     "output_type": "execute_result"
    }
   ],
   "source": [
    "model.fit(features, labels)"
   ]
  },
  {
   "cell_type": "code",
   "execution_count": 29,
   "metadata": {
    "colab": {
     "base_uri": "https://localhost:8080/",
     "height": 1122
    },
    "colab_type": "code",
    "id": "FRSFp-W8KMmE",
    "outputId": "7f0111c9-c69c-415b-a944-72fd3848e6f4"
   },
   "outputs": [
    {
     "name": "stdout",
     "output_type": "stream",
     "text": [
      "# 'business':\n",
      "  . Top unigrams:\n",
      "       . company\n",
      "       . shares\n",
      "       . bank\n",
      "       . market\n",
      "       . firm\n",
      "  . Top bigrams:\n",
      "       . chief executive\n",
      "       . stock market\n",
      "       . analysts said\n",
      "       . economic growth\n",
      "       . oil prices\n",
      "# 'entertainment':\n",
      "  . Top unigrams:\n",
      "       . film\n",
      "       . music\n",
      "       . singer\n",
      "       . tv\n",
      "       . star\n",
      "  . Top bigrams:\n",
      "       . box office\n",
      "       . los angeles\n",
      "       . new york\n",
      "       . film festival\n",
      "       . big brother\n",
      "# 'politics':\n",
      "  . Top unigrams:\n",
      "       . labour\n",
      "       . party\n",
      "       . mr\n",
      "       . government\n",
      "       . election\n",
      "  . Top bigrams:\n",
      "       . mr blair\n",
      "       . tony blair\n",
      "       . prime minister\n",
      "       . general election\n",
      "       . mr brown\n",
      "# 'sport':\n",
      "  . Top unigrams:\n",
      "       . match\n",
      "       . cup\n",
      "       . club\n",
      "       . win\n",
      "       . game\n",
      "  . Top bigrams:\n",
      "       . year old\n",
      "       . australian open\n",
      "       . champions league\n",
      "       . world number\n",
      "       . bbc sport\n",
      "# 'tech':\n",
      "  . Top unigrams:\n",
      "       . computer\n",
      "       . users\n",
      "       . technology\n",
      "       . software\n",
      "       . online\n",
      "  . Top bigrams:\n",
      "       . said mr\n",
      "       . news website\n",
      "       . bbc news\n",
      "       . mobile phone\n",
      "       . mobile phones\n"
     ]
    }
   ],
   "source": [
    "from sklearn.feature_selection import chi2\n",
    "\n",
    "N = 5\n",
    "for category, category_id in sorted(category_to_id.items()):\n",
    "    indices = np.argsort(model.coef_[category_id])\n",
    "    feature_names = np.array(tfidf.get_feature_names())[indices]\n",
    "    unigrams = [v for v in reversed(feature_names) if len(v.split(' ')) == 1][:N]\n",
    "    bigrams = [v for v in reversed(feature_names) if len(v.split(' ')) == 2][:N]\n",
    "    print(\"# '{}':\".format(category))\n",
    "    print(\"  . Top unigrams:\\n       . {}\".format('\\n       . '.join(unigrams)))\n",
    "    print(\"  . Top bigrams:\\n       . {}\".format('\\n       . '.join(bigrams)))"
   ]
  },
  {
   "cell_type": "markdown",
   "metadata": {
    "colab_type": "text",
    "id": "dR7gPG1bsjPF"
   },
   "source": [
    "This seems consistent with the terms we would expect, with the exception of the \"tech\" category, where the bigrams **`\"bbc news\"`** and **`\"news website\"`** are some of the most predictive. We also see that the **`\"sport\"`** category includes **`\"bbc sport\"`** as one of the most predictive bigrams.\n",
    "\n",
    "This is confirmed by looking at the frequency of each category for articles containing **`\"news website\"`**:"
   ]
  },
  {
   "cell_type": "code",
   "execution_count": 30,
   "metadata": {
    "colab": {
     "base_uri": "https://localhost:8080/",
     "height": 102
    },
    "colab_type": "code",
    "id": "QOyYF6fdRc18",
    "outputId": "787a6aba-3807-488a-81e5-05adf6df2538"
   },
   "outputs": [
    {
     "data": {
      "text/plain": [
       "tech             69\n",
       "politics          8\n",
       "entertainment     7\n",
       "business          1\n",
       "Name: category, dtype: int64"
      ]
     },
     "execution_count": 30,
     "metadata": {},
     "output_type": "execute_result"
    }
   ],
   "source": [
    "df[df.text.str.lower().str.contains('news website')].category.value_counts()"
   ]
  },
  {
   "cell_type": "markdown",
   "metadata": {
    "colab_type": "text",
    "id": "KY7W_YW5s5Jw"
   },
   "source": [
    "What is most likely happening is that the editorial style of the **\"tech\"** section is different, and often includes ther terms **`\"bbc news\"`**  and **`\"news website\"`**, in the same way the sports section includes **`\"bbc sport\"`**.\n",
    "\n",
    "This is called a [**data leakage**](https://www.kaggle.com/wiki/Leakage), which is when information about the label we want to predict is accidentally added to the training set. In this specific case, our model still works equally good when excluding the leaky terms, but it's always good to be skeptical when a model performs unexpectedly well, hence the need for interpretable model instead of black-boxes that might work very well on the test set, but fail on real data.\n",
    "\n",
    "For the record, we can also confirm that the model works well on data unrelated to the BBC, as can be seen in the examples below:"
   ]
  },
  {
   "cell_type": "code",
   "execution_count": 31,
   "metadata": {
    "colab": {
     "base_uri": "https://localhost:8080/",
     "height": 272
    },
    "colab_type": "code",
    "id": "DvmxlZdJGITR",
    "outputId": "4c422af3-f45f-4588-9dbd-4ec1bb1acec5"
   },
   "outputs": [
    {
     "name": "stdout",
     "output_type": "stream",
     "text": [
      "\"Hooli stock price soared after a dip in PiedPiper revenue growth.\"\n",
      "  - Predicted as: 'business'\n",
      "\n",
      "\"Captain Tsubasa scores a magnificent goal for the Japanese team.\"\n",
      "  - Predicted as: 'sport'\n",
      "\n",
      "\"Merryweather mercenaries are sent on another mission, as government oversight groups call for new sanctions.\"\n",
      "  - Predicted as: 'politics'\n",
      "\n",
      "\"Beyoncé releases a new album, tops the charts in all of south-east Asia!\"\n",
      "  - Predicted as: 'entertainment'\n",
      "\n",
      "\"You won't guess what the latest trend in data analysis is!\"\n",
      "  - Predicted as: 'tech'\n",
      "\n"
     ]
    }
   ],
   "source": [
    "texts = [\"Hooli stock price soared after a dip in PiedPiper revenue growth.\",\n",
    "         \"Captain Tsubasa scores a magnificent goal for the Japanese team.\",\n",
    "         \"Merryweather mercenaries are sent on another mission, as government oversight groups call for new sanctions.\",\n",
    "         \"Beyoncé releases a new album, tops the charts in all of south-east Asia!\",\n",
    "         \"You won't guess what the latest trend in data analysis is!\"]\n",
    "text_features = tfidf.transform(texts)\n",
    "predictions = model.predict(text_features)\n",
    "for text, predicted in zip(texts, predictions):\n",
    "    print('\"{}\"'.format(text))\n",
    "    print(\"  - Predicted as: '{}'\".format(id_to_category[predicted]))\n",
    "    print(\"\")"
   ]
  },
  {
   "cell_type": "code",
   "execution_count": 0,
   "metadata": {
    "colab": {},
    "colab_type": "code",
    "id": "WaPhnNGnQMrT"
   },
   "outputs": [],
   "source": []
  }
 ],
 "metadata": {
  "colab": {
   "collapsed_sections": [],
   "name": "Copy of \"Automatic document classification\" notebook",
   "provenance": [],
   "toc_visible": true,
   "version": "0.3.2"
  },
  "kernelspec": {
   "display_name": "Python 3",
   "language": "python",
   "name": "python3"
  },
  "language_info": {
   "codemirror_mode": {
    "name": "ipython",
    "version": 3
   },
   "file_extension": ".py",
   "mimetype": "text/x-python",
   "name": "python",
   "nbconvert_exporter": "python",
   "pygments_lexer": "ipython3",
   "version": "3.7.1"
  }
 },
 "nbformat": 4,
 "nbformat_minor": 1
}

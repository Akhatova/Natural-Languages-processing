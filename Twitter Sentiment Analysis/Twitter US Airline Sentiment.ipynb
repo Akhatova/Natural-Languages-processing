{
 "cells": [
  {
   "cell_type": "markdown",
   "metadata": {
    "_cell_guid": "02bcad77-7615-476a-996d-06b867f9bf82",
    "_uuid": "ac0125127a55e4d120e4de2a056c584aeb0a0e99"
   },
   "source": [
    "# Introduction\n",
    "A sentiment analysis job about the problems of each major U.S. airline. [Twitter data](https://www.kaggle.com/crowdflower/twitter-airline-sentiment) was scraped from February of 2015 and contributors were asked to first classify positive, negative, and neutral tweets, followed by categorizing negative reasons (such as \"late flight\" or \"rude service\")"
   ]
  },
  {
   "cell_type": "markdown",
   "metadata": {
    "_cell_guid": "d7e01705-75cb-480b-b9c6-ca9edf5334b1",
    "_uuid": "bef30704a2c497f940d64b4486508903444f295e"
   },
   "source": [
    "# Importing modules"
   ]
  },
  {
   "cell_type": "code",
   "execution_count": 1,
   "metadata": {
    "_cell_guid": "21cee267-f257-4ba3-88e1-d22e2fc57c7e",
    "_uuid": "2fec7805d8d0e999fc405d136beff46ac331b963"
   },
   "outputs": [],
   "source": [
    "import numpy as np \n",
    "import pandas as pd \n",
    "pd.set_option('display.max_colwidth', -1)\n",
    "from time import time\n",
    "import re\n",
    "import string\n",
    "import os\n",
    "import emoji\n",
    "from pprint import pprint\n",
    "import collections\n",
    "\n",
    "import matplotlib.pyplot as plt\n",
    "import seaborn as sns\n",
    "sns.set(style=\"darkgrid\")\n",
    "sns.set(font_scale=1.3)\n",
    "\n",
    "from sklearn.base import BaseEstimator, TransformerMixin\n",
    "from sklearn.feature_extraction.text import CountVectorizer\n",
    "from sklearn.feature_extraction.text import TfidfVectorizer\n",
    "from sklearn.model_selection import GridSearchCV\n",
    "from sklearn.model_selection import train_test_split\n",
    "from sklearn.pipeline import Pipeline, FeatureUnion\n",
    "from sklearn.metrics import classification_report\n",
    "\n",
    "from sklearn.naive_bayes import MultinomialNB\n",
    "from sklearn.linear_model import LogisticRegression\n",
    "from sklearn.externals import joblib\n",
    "\n",
    "import gensim\n",
    "\n",
    "from nltk.corpus import stopwords\n",
    "from nltk.stem import PorterStemmer\n",
    "from nltk.tokenize import word_tokenize\n",
    "\n",
    "import warnings\n",
    "warnings.filterwarnings('ignore')\n",
    "\n",
    "np.random.seed(37)"
   ]
  },
  {
   "cell_type": "markdown",
   "metadata": {
    "_cell_guid": "70ef7b60-cc3a-43ff-9cec-a3e9e1638af4",
    "_uuid": "f60c7c8463a6c6143608f055a4c3ba9ba3c4a4c6"
   },
   "source": [
    "# Loading the data\n",
    "We shuffle the data frame in case the classes would be sorted. This can be done with the **reindex** method applied on the **permutation** of the original indices. In this notebook we will only focus on the text variable and the class variable."
   ]
  },
  {
   "cell_type": "code",
   "execution_count": 2,
   "metadata": {
    "_cell_guid": "4d569df8-dbb0-49e8-afcd-2a464af497ce",
    "_uuid": "cb12f1648e335f18109757da2f90a99afc35a754"
   },
   "outputs": [],
   "source": [
    "df = pd.read_csv('C:/Users/1/Python/NLP/Twitter_airline_sentiment/Tweets.csv', nrows = 1000)\n",
    "df = df.reindex(np.random.permutation(df.index))  \n",
    "df = df[['text', 'airline_sentiment']]"
   ]
  },
  {
   "cell_type": "markdown",
   "metadata": {
    "_cell_guid": "9e32eb35-b009-46c3-8fc1-fc5b2b48b6d3",
    "_uuid": "878a5d96c41b5f10158e6c915ee70e9cf1a63cb3"
   },
   "source": [
    "# Exploratory Data Analysis"
   ]
  },
  {
   "cell_type": "markdown",
   "metadata": {
    "_cell_guid": "c727d86e-65cb-4127-b665-54a0886b9fe0",
    "_uuid": "d6755361c07a2d13ef9965acd588c015dd3da916"
   },
   "source": [
    "## Target variable\n",
    "There are three class labels to predict: *negative, neutral or positive*. \n",
    "\n",
    "**CONCLUSION: **The class labels are **imbalanced** as we can see below. This is something that we should keep in mind during the model training phase. We could, for instance, make sure the classes are balanced by up/undersampling."
   ]
  },
  {
   "cell_type": "code",
   "execution_count": 3,
   "metadata": {
    "_cell_guid": "9ac8a71b-adfa-4c54-9283-f09f5ea82089",
    "_uuid": "b91eff31d2a08fce8f7649bdd0656059604ff060"
   },
   "outputs": [
    {
     "data": {
      "image/png": "[encoded data removed]",
      "text/plain": [
       "<Figure size 648x432 with 1 Axes>"
      ]
     },
     "metadata": {
      "needs_background": "light"
     },
     "output_type": "display_data"
    }
   ],
   "source": [
    "sns.factorplot(x=\"airline_sentiment\", data=df, kind=\"count\", size=6, aspect=1.5, palette=\"PuBuGn_d\")\n",
    "plt.show();"
   ]
  },
  {
   "cell_type": "markdown",
   "metadata": {
    "_cell_guid": "a957af2c-5b4e-4cfa-98e2-03d0f81089b0",
    "_uuid": "818dbfec79449a1bebffb8a782587aa6e9b1175a"
   },
   "source": [
    "## Text variable\n",
    "To analyze the text variable we create a class **TextCounts**. In this class we compute some basic statistics on the text variable. This class can be used later in a Pipeline, as well.\n",
    "\n",
    "* **count_words** : number of words in the tweet\n",
    "* **count_mentions** : referrals to other Twitter accounts, which are preceded by a @\n",
    "* **count_hashtags** : number of tag words, preceded by a #\n",
    "* **count_capital_words** : number of uppercase words, could be used to *\"shout\"* and express (negative) emotions\n",
    "* **count_excl_quest_marks** : number of question or exclamation marks\n",
    "* **count_urls** : number of links in the tweet, preceded by http(s)\n",
    "* **count_emojis** : number of emoji, which might be a good indication of the sentiment"
   ]
  },
  {
   "cell_type": "code",
   "execution_count": 11,
   "metadata": {
    "_cell_guid": "12b6b6db-df87-4494-ad89-caa68b14495c",
    "_uuid": "bcc2afba20e5d041359c05ab3d8510716cdfc6dd"
   },
   "outputs": [],
   "source": [
    "class TextCounts(BaseEstimator, TransformerMixin):\n",
    "    \n",
    "    def count_regex(self, pattern, tweet):\n",
    "        return len(re.findall(pattern, tweet))\n",
    "    \n",
    "    def fit(self, X, y=None, **fit_params):\n",
    "        # fit method is used when specific operations need to be done on the train data, but not on the test data\n",
    "        return self\n",
    "    \n",
    "    def transform(self, X, **transform_params):\n",
    "        count_words = X.apply(lambda x: self.count_regex(r'\\w+', x)) \n",
    "        count_mentions = X.apply(lambda x: self.count_regex(r'@\\w+', x))\n",
    "        count_hashtags = X.apply(lambda x: self.count_regex(r'#\\w+', x))\n",
    "        count_capital_words = X.apply(lambda x: self.count_regex(r'\\b[A-Z]{2,}\\b', x))\n",
    "        count_excl_quest_marks = X.apply(lambda x: self.count_regex(r'!|\\?', x))\n",
    "        count_urls = X.apply(lambda x: self.count_regex(r'http.?://[^\\s]+[\\s]?', x))\n",
    "        # We will replace the emoji symbols with a description, which makes using a regex for counting easier\n",
    "        # Moreover, it will result in having more words in the tweet\n",
    "        count_emojis = X.apply(lambda x: emoji.demojize(x)).apply(lambda x: self.count_regex(r':[a-z_&]+:', x))\n",
    "        \n",
    "        df = pd.DataFrame({'count_words': count_words\n",
    "                           , 'count_mentions': count_mentions\n",
    "                           , 'count_hashtags': count_hashtags\n",
    "                           , 'count_capital_words': count_capital_words\n",
    "                           , 'count_excl_quest_marks': count_excl_quest_marks\n",
    "                           , 'count_urls': count_urls\n",
    "                           , 'count_emojis': count_emojis\n",
    "                          })\n",
    "        \n",
    "        return df"
   ]
  },
  {
   "cell_type": "code",
   "execution_count": 12,
   "metadata": {
    "_cell_guid": "4552bc28-6eb1-4f4f-8f73-a129ed0fad2f",
    "_uuid": "75373b34ac6eef2768612e70162caf6b121a4eab"
   },
   "outputs": [],
   "source": [
    "tc = TextCounts()\n",
    "df_eda = tc.fit_transform(df.text)"
   ]
  },
  {
   "cell_type": "markdown",
   "metadata": {
    "_cell_guid": "41a7925a-af42-49c8-99db-aa6e361f6f4d",
    "_uuid": "18f7bdefa9a7fcab78e7e688b04b2d480a84ad66"
   },
   "source": [
    "It could be interesting to see how the TextStats variables relate to the class variable. Therefore we write a function **show_dist** that provides descriptive statistics and a plot per target class."
   ]
  },
  {
   "cell_type": "code",
   "execution_count": 13,
   "metadata": {
    "_cell_guid": "f0351435-3561-42a5-a5e8-55aa7209a964",
    "_uuid": "2ddbab218287cdcaa579764c555571031ffd6ab8"
   },
   "outputs": [],
   "source": [
    "def show_dist(df, col):\n",
    "    print('Descriptive stats for {}'.format(col))\n",
    "    print('-'*(len(col)+22))\n",
    "    print(df.groupby('airline_sentiment')[col].describe())\n",
    "    bins = np.arange(df[col].min(), df[col].max() + 1)\n",
    "    g = sns.FacetGrid(df, col='airline_sentiment', size=5, hue='airline_sentiment', palette=\"PuBuGn_d\")\n",
    "    g = g.map(sns.distplot, col, kde=False, norm_hist=True, bins=bins)\n",
    "    plt.show()"
   ]
  },
  {
   "cell_type": "code",
   "execution_count": 14,
   "metadata": {
    "_cell_guid": "72d53891-ba09-4ec2-aa69-d827125167e5",
    "_uuid": "681fa80920a7a34dc3486675310b7b2c1d4a9ed6"
   },
   "outputs": [],
   "source": [
    "# Add airline_sentiment to df_eda\n",
    "df_eda['airline_sentiment'] = df.airline_sentiment"
   ]
  },
  {
   "cell_type": "code",
   "execution_count": 15,
   "metadata": {
    "_cell_guid": "1d7be179-d38c-4ed0-9c9d-dbacbf43c55d",
    "_uuid": "aa76ec64ad4d4eefcb086870e260bbe8e110f37a"
   },
   "outputs": [
    {
     "name": "stdout",
     "output_type": "stream",
     "text": [
      "Descriptive stats for count_words\n",
      "---------------------------------\n",
      "                   count       mean       std  min    25%   50%   75%   max\n",
      "airline_sentiment                                                          \n",
      "negative           514.0  20.538911  5.984014  3.0  17.00  22.0  25.0  33.0\n",
      "neutral            272.0  14.849265  6.758026  2.0  9.00   14.5  20.0  31.0\n",
      "positive           214.0  14.579439  7.101593  2.0  9.25   14.0  21.0  30.0\n"
     ]
    },
    {
     "data": {
      "image/png": "[encoded data removed]",
      "text/plain": [
       "<Figure size 1080x360 with 3 Axes>"
      ]
     },
     "metadata": {},
     "output_type": "display_data"
    }
   ],
   "source": [
    "show_dist(df_eda, 'count_words')"
   ]
  },
  {
   "cell_type": "code",
   "execution_count": 16,
   "metadata": {
    "_cell_guid": "16de18c8-b2f9-4621-8a3f-40c58b851c8c",
    "_uuid": "93716e6681e5819a6e72ff56d9837e2271ba4929"
   },
   "outputs": [
    {
     "name": "stdout",
     "output_type": "stream",
     "text": [
      "Descriptive stats for count_mentions\n",
      "------------------------------------\n",
      "                   count      mean       std  min  25%  50%  75%  max\n",
      "airline_sentiment                                                    \n",
      "negative           514.0  1.103113  0.346340  1.0  1.0  1.0  1.0  4.0\n",
      "neutral            272.0  1.253676  0.605925  1.0  1.0  1.0  1.0  5.0\n",
      "positive           214.0  1.158879  0.467729  1.0  1.0  1.0  1.0  5.0\n"
     ]
    },
    {
     "data": {
      "image/png": "[encoded data removed]",
      "text/plain": [
       "<Figure size 1080x360 with 3 Axes>"
      ]
     },
     "metadata": {},
     "output_type": "display_data"
    }
   ],
   "source": [
    "show_dist(df_eda, 'count_mentions')"
   ]
  },
  {
   "cell_type": "code",
   "execution_count": 17,
   "metadata": {
    "_cell_guid": "d81673f2-6886-4a24-ac04-15af7e921299",
    "_uuid": "240fb548e872ba664ba0261393792225aa1b1be0"
   },
   "outputs": [
    {
     "name": "stdout",
     "output_type": "stream",
     "text": [
      "Descriptive stats for count_hashtags\n",
      "------------------------------------\n",
      "                   count      mean       std  min  25%  50%  75%  max\n",
      "airline_sentiment                                                    \n",
      "negative           514.0  0.227626  0.572889  0.0  0.0  0.0  0.0  5.0\n",
      "neutral            272.0  0.261029  0.719950  0.0  0.0  0.0  0.0  4.0\n",
      "positive           214.0  0.378505  0.873021  0.0  0.0  0.0  0.0  7.0\n"
     ]
    },
    {
     "data": {
      "image/png": "[encoded data removed]",
      "text/plain": [
       "<Figure size 1080x360 with 3 Axes>"
      ]
     },
     "metadata": {},
     "output_type": "display_data"
    }
   ],
   "source": [
    "show_dist(df_eda, 'count_hashtags')"
   ]
  },
  {
   "cell_type": "code",
   "execution_count": 18,
   "metadata": {
    "_cell_guid": "e0d9c23e-03f7-4df4-a199-3b8f41f0e395",
    "_uuid": "26238a6baf1ad6bf3e3b30a32f8c4ecd1c54fff5"
   },
   "outputs": [
    {
     "name": "stdout",
     "output_type": "stream",
     "text": [
      "Descriptive stats for count_capital_words\n",
      "-----------------------------------------\n",
      "                   count      mean       std  min  25%  50%  75%   max\n",
      "airline_sentiment                                                     \n",
      "negative           514.0  0.461089  1.033288  0.0  0.0  0.0  1.0  14.0\n",
      "neutral            272.0  0.459559  0.831917  0.0  0.0  0.0  1.0  4.0 \n",
      "positive           214.0  0.415888  0.861231  0.0  0.0  0.0  1.0  7.0 \n"
     ]
    },
    {
     "data": {
      "image/png": "[encoded data removed]",
      "text/plain": [
       "<Figure size 1080x360 with 3 Axes>"
      ]
     },
     "metadata": {},
     "output_type": "display_data"
    }
   ],
   "source": [
    "show_dist(df_eda, 'count_capital_words')"
   ]
  },
  {
   "cell_type": "code",
   "execution_count": 19,
   "metadata": {
    "_cell_guid": "24d3ae00-b2f0-4293-a785-048b409d4541",
    "_uuid": "3ca91505f402504320a6c937dd6be5c20cf5a1f1"
   },
   "outputs": [
    {
     "name": "stdout",
     "output_type": "stream",
     "text": [
      "Descriptive stats for count_excl_quest_marks\n",
      "--------------------------------------------\n",
      "                   count      mean       std  min  25%  50%  75%  max\n",
      "airline_sentiment                                                    \n",
      "negative           514.0  0.636187  0.954079  0.0  0.0  0.0  1.0  7.0\n",
      "neutral            272.0  0.617647  0.824521  0.0  0.0  0.0  1.0  6.0\n",
      "positive           214.0  0.925234  1.283342  0.0  0.0  1.0  1.0  8.0\n"
     ]
    },
    {
     "data": {
      "image/png": "[encoded data removed]",
      "text/plain": [
       "<Figure size 1080x360 with 3 Axes>"
      ]
     },
     "metadata": {},
     "output_type": "display_data"
    }
   ],
   "source": [
    "show_dist(df_eda, 'count_excl_quest_marks')"
   ]
  },
  {
   "cell_type": "code",
   "execution_count": 20,
   "metadata": {
    "_cell_guid": "1e857eb3-e949-48d6-868c-9b8f123b401f",
    "_uuid": "23d339c124cd0ebc82d37be174133cfa2fbfca30"
   },
   "outputs": [
    {
     "name": "stdout",
     "output_type": "stream",
     "text": [
      "Descriptive stats for count_urls\n",
      "--------------------------------\n",
      "                   count      mean       std  min  25%  50%  75%  max\n",
      "airline_sentiment                                                    \n",
      "negative           514.0  0.052529  0.231874  0.0  0.0  0.0  0.0  2.0\n",
      "neutral            272.0  0.216912  0.455399  0.0  0.0  0.0  0.0  2.0\n",
      "positive           214.0  0.144860  0.365851  0.0  0.0  0.0  0.0  2.0\n"
     ]
    },
    {
     "data": {
      "image/png": "[encoded data removed]",
      "text/plain": [
       "<Figure size 1080x360 with 3 Axes>"
      ]
     },
     "metadata": {},
     "output_type": "display_data"
    }
   ],
   "source": [
    "show_dist(df_eda, 'count_urls')"
   ]
  },
  {
   "cell_type": "code",
   "execution_count": 21,
   "metadata": {
    "_cell_guid": "69ecdc4f-baf5-41dd-bcd5-f805af43325b",
    "_uuid": "68c73eeb67a2af80619c6dc5493050631d8cabf2"
   },
   "outputs": [
    {
     "name": "stdout",
     "output_type": "stream",
     "text": [
      "Descriptive stats for count_emojis\n",
      "----------------------------------\n",
      "                   count      mean       std  min  25%  50%  75%  max\n",
      "airline_sentiment                                                    \n",
      "negative           514.0  0.029183  0.209716  0.0  0.0  0.0  0.0  3.0\n",
      "neutral            272.0  0.143382  0.669328  0.0  0.0  0.0  0.0  5.0\n",
      "positive           214.0  0.135514  0.479975  0.0  0.0  0.0  0.0  3.0\n"
     ]
    },
    {
     "data": {
      "image/png": "[encoded data removed]",
      "text/plain": [
       "<Figure size 1080x360 with 3 Axes>"
      ]
     },
     "metadata": {},
     "output_type": "display_data"
    }
   ],
   "source": [
    "show_dist(df_eda, 'count_emojis')"
   ]
  },
  {
   "cell_type": "markdown",
   "metadata": {
    "_cell_guid": "9bb024ed-3893-4eb0-b047-54ca1e7bced7",
    "_uuid": "0171d7539984e488d0cf1a3472854c998f58fcce"
   },
   "source": [
    "**CONCLUSIONS: **\n",
    "* **The number of words** used in the tweets is rater low. Maximum number of words is 36 and there are even tweets with only 2 words. So we'll have to be careful during data cleaning not to remove too many words. On the other hand, the text processing will be faster. Negative tweets contain more words than neutral or positive tweets.\n",
    "* All tweets have at least one **mention**. Probably this is the result of extracting the tweets based on mentions in the Twitter data. There seems to be no difference in number of mentions with regard to the sentiment.\n",
    "* Most of the tweets do not contain **hash tags**. So probably this variable will not be retained during model training. Again, no difference in number of hash tags with regard to the sentiment.\n",
    "* Most of the tweets do not contain **capitalized words** and we do not see a difference in distribution between the sentiments.\n",
    "* The positive tweets seem to be using a bit more **exclamation or question marks**.\n",
    "* Most tweets do not contain a **URL**. \n",
    "* Most tweets do not use **emojis**."
   ]
  },
  {
   "cell_type": "markdown",
   "metadata": {
    "_cell_guid": "0db65f91-0c7e-4d77-98ab-2b0fff58f855",
    "_uuid": "416159ee3509b0953455c170e20cde4136279765"
   },
   "source": [
    "# Text Cleaning"
   ]
  },
  {
   "cell_type": "code",
   "execution_count": 22,
   "metadata": {
    "_cell_guid": "fe4f4723-ac9b-4e46-88d6-4631a961c7e7",
    "_uuid": "b0f586110aa644f90b64b95de139ec0697ac44a1"
   },
   "outputs": [],
   "source": [
    "class CleanText(BaseEstimator, TransformerMixin):\n",
    "    def remove_mentions(self, input_text):\n",
    "        return re.sub(r'@\\w+', '', input_text)\n",
    "    \n",
    "    def remove_urls(self, input_text):\n",
    "        return re.sub(r'http.?://[^\\s]+[\\s]?', '', input_text)\n",
    "    \n",
    "    def emoji_oneword(self, input_text):\n",
    "        # By compressing the underscore, the emoji is kept as one word\n",
    "        return input_text.replace('_','')\n",
    "    \n",
    "    def remove_punctuation(self, input_text):\n",
    "        # Make translation table\n",
    "        punct = string.punctuation\n",
    "        trantab = str.maketrans(punct, len(punct)*' ')  # Every punctuation symbol will be replaced by a space\n",
    "        return input_text.translate(trantab)\n",
    "\n",
    "    def remove_digits(self, input_text):\n",
    "        return re.sub('\\d+', '', input_text)\n",
    "    \n",
    "    def to_lower(self, input_text):\n",
    "        return input_text.lower()\n",
    "    \n",
    "    def remove_stopwords(self, input_text):\n",
    "        stopwords_list = stopwords.words('english')\n",
    "        # Some words which might indicate a certain sentiment are kept via a whitelist\n",
    "        whitelist = [\"n't\", \"not\", \"no\"]\n",
    "        words = input_text.split() \n",
    "        clean_words = [word for word in words if (word not in stopwords_list or word in whitelist) and len(word) > 1] \n",
    "        return \" \".join(clean_words) \n",
    "    \n",
    "    def stemming(self, input_text):\n",
    "        porter = PorterStemmer()\n",
    "        words = input_text.split() \n",
    "        stemmed_words = [porter.stem(word) for word in words]\n",
    "        return \" \".join(stemmed_words)\n",
    "    \n",
    "    def fit(self, X, y=None, **fit_params):\n",
    "        return self\n",
    "    \n",
    "    def transform(self, X, **transform_params):\n",
    "        clean_X = X.apply(self.remove_mentions).apply(self.remove_urls).apply(self.emoji_oneword).apply(self.remove_punctuation).apply(self.remove_digits).apply(self.to_lower).apply(self.remove_stopwords).apply(self.stemming)\n",
    "        return clean_X"
   ]
  },
  {
   "cell_type": "code",
   "execution_count": 23,
   "metadata": {
    "_cell_guid": "b8a27b57-3955-4e97-96f1-01f9c84dc8d4",
    "_uuid": "97369e87f093479687791ee7dcb1bb3b69c30218"
   },
   "outputs": [
    {
     "data": {
      "text/plain": [
       "13     fli fabul seduct sky take stress away travel                                \n",
       "724    nope told us time go home sleep airport even though assur us would get room \n",
       "396    get help support ticket day incid thank                                     \n",
       "758    flew unit au austin bergstrom cancun intl best flight ever not big not small\n",
       "880    like continent chicken feat fair                                            \n",
       "Name: text, dtype: object"
      ]
     },
     "execution_count": 23,
     "metadata": {},
     "output_type": "execute_result"
    }
   ],
   "source": [
    "ct = CleanText()\n",
    "sr_clean = ct.fit_transform(df.text)\n",
    "sr_clean.sample(5)"
   ]
  },
  {
   "cell_type": "markdown",
   "metadata": {
    "_cell_guid": "da0be13b-9e22-4709-b83a-a451fb2f5569",
    "_uuid": "d4ceed8983cca2c30af7eedf346400c859ed15e0"
   },
   "source": [
    "Empty twit can cause an error for the Word2Vec algorithm, replace it by 'no text'"
   ]
  },
  {
   "cell_type": "code",
   "execution_count": 4,
   "metadata": {
    "_cell_guid": "11567bee-dad6-4809-b4d6-a3203821c779",
    "_uuid": "bba4e68eb15ae8eab41869a3403e910a763ac486"
   },
   "outputs": [
    {
     "ename": "NameError",
     "evalue": "name 'sr_clean' is not defined",
     "output_type": "error",
     "traceback": [
      "\u001b[1;31m---------------------------------------------------------------------------\u001b[0m",
      "\u001b[1;31mNameError\u001b[0m                                 Traceback (most recent call last)",
      "\u001b[1;32m<ipython-input-4-34a8ef59aabb>\u001b[0m in \u001b[0;36m<module>\u001b[1;34m\u001b[0m\n\u001b[1;32m----> 1\u001b[1;33m \u001b[0mempty_clean\u001b[0m \u001b[1;33m=\u001b[0m \u001b[0msr_clean\u001b[0m \u001b[1;33m==\u001b[0m \u001b[1;34m''\u001b[0m\u001b[1;33m\u001b[0m\u001b[1;33m\u001b[0m\u001b[0m\n\u001b[0m\u001b[0;32m      2\u001b[0m \u001b[0mprint\u001b[0m\u001b[1;33m(\u001b[0m\u001b[1;34m'{} records have no words left after text cleaning'\u001b[0m\u001b[1;33m.\u001b[0m\u001b[0mformat\u001b[0m\u001b[1;33m(\u001b[0m\u001b[0msr_clean\u001b[0m\u001b[1;33m[\u001b[0m\u001b[0mempty_clean\u001b[0m\u001b[1;33m]\u001b[0m\u001b[1;33m.\u001b[0m\u001b[0mcount\u001b[0m\u001b[1;33m(\u001b[0m\u001b[1;33m)\u001b[0m\u001b[1;33m)\u001b[0m\u001b[1;33m)\u001b[0m\u001b[1;33m\u001b[0m\u001b[1;33m\u001b[0m\u001b[0m\n\u001b[0;32m      3\u001b[0m \u001b[0msr_clean\u001b[0m\u001b[1;33m.\u001b[0m\u001b[0mloc\u001b[0m\u001b[1;33m[\u001b[0m\u001b[0mempty_clean\u001b[0m\u001b[1;33m]\u001b[0m \u001b[1;33m=\u001b[0m \u001b[1;34m'[no_text]'\u001b[0m\u001b[1;33m\u001b[0m\u001b[1;33m\u001b[0m\u001b[0m\n",
      "\u001b[1;31mNameError\u001b[0m: name 'sr_clean' is not defined"
     ]
    }
   ],
   "source": [
    "empty_clean = sr_clean == ''\n",
    "print('{} records have no words left after text cleaning'.format(sr_clean[empty_clean].count()))\n",
    "sr_clean.loc[empty_clean] = '[no_text]'"
   ]
  },
  {
   "cell_type": "markdown",
   "metadata": {
    "_cell_guid": "84c1dc74-508b-4c55-ab34-ada314997a02",
    "_uuid": "d54ce955f07356f7cfe32960987ed86479a22d21"
   },
   "source": [
    "## Most frequent words"
   ]
  },
  {
   "cell_type": "code",
   "execution_count": 25,
   "metadata": {
    "_cell_guid": "6e8f0c19-8f1c-4d0d-9156-17a67d9d50d2",
    "_uuid": "99669d586ab45ffef74b67125503ad6314722fea"
   },
   "outputs": [
    {
     "data": {
      "image/png": "[encoded data removed]",
      "text/plain": [
       "<Figure size 864x720 with 1 Axes>"
      ]
     },
     "metadata": {},
     "output_type": "display_data"
    }
   ],
   "source": [
    "cv = CountVectorizer()\n",
    "bow = cv.fit_transform(sr_clean)\n",
    "word_freq = dict(zip(cv.get_feature_names(), np.asarray(bow.sum(axis=0)).ravel()))\n",
    "word_counter = collections.Counter(word_freq)\n",
    "word_counter_df = pd.DataFrame(word_counter.most_common(20), columns = ['word', 'freq'])\n",
    "\n",
    "fig, ax = plt.subplots(figsize=(12, 10))\n",
    "sns.barplot(x=\"word\", y=\"freq\", data=word_counter_df, palette=\"PuBuGn_d\", ax=ax)\n",
    "plt.show();"
   ]
  },
  {
   "cell_type": "markdown",
   "metadata": {
    "_cell_guid": "18b10489-d892-40cc-8f71-35885a5caaed",
    "_uuid": "eb870c8e3c36854c60282c30b1e3fb091e769329"
   },
   "source": [
    "# Creating test data"
   ]
  },
  {
   "cell_type": "code",
   "execution_count": 26,
   "metadata": {
    "_cell_guid": "ccee501f-44a6-4f0d-9b6a-6bdf8713dd12",
    "_uuid": "ff3f7a17f2b17fbfd43c24f33a061446fb502ca8"
   },
   "outputs": [
    {
     "data": {
      "text/plain": [
       "['count_words',\n",
       " 'count_mentions',\n",
       " 'count_hashtags',\n",
       " 'count_capital_words',\n",
       " 'count_excl_quest_marks',\n",
       " 'count_urls',\n",
       " 'count_emojis',\n",
       " 'airline_sentiment',\n",
       " 'clean_text']"
      ]
     },
     "execution_count": 26,
     "metadata": {},
     "output_type": "execute_result"
    }
   ],
   "source": [
    "df_model = df_eda\n",
    "df_model['clean_text'] = sr_clean\n",
    "df_model.columns.tolist()"
   ]
  },
  {
   "cell_type": "markdown",
   "metadata": {},
   "source": [
    "To specifically select columns: "
   ]
  },
  {
   "cell_type": "code",
   "execution_count": 27,
   "metadata": {
    "_cell_guid": "b9b66faf-2fc6-4c50-9e1f-89b8dc5df13a",
    "_uuid": "b6354efffb71c5a998ddf7f206aebd6c3324c117"
   },
   "outputs": [],
   "source": [
    "class ColumnExtractor(TransformerMixin, BaseEstimator):\n",
    "    def __init__(self, cols):\n",
    "        self.cols = cols\n",
    "\n",
    "    def transform(self, X, **transform_params):\n",
    "        return X[self.cols]\n",
    "\n",
    "    def fit(self, X, y=None, **fit_params):\n",
    "        return self"
   ]
  },
  {
   "cell_type": "code",
   "execution_count": 28,
   "metadata": {
    "_cell_guid": "df742ade-52d3-4b47-80b0-1f7cc26545eb",
    "_uuid": "6ab9296159749e4525244fae6d6f4e6a37121c93"
   },
   "outputs": [],
   "source": [
    "X_train, X_test, y_train, y_test = train_test_split(df_model.drop('airline_sentiment', axis=1), df_model.airline_sentiment, test_size=0.1, random_state=37)"
   ]
  },
  {
   "cell_type": "markdown",
   "metadata": {
    "_cell_guid": "a636aca6-1eed-4b59-ac7a-61b1cbcf10d6",
    "_uuid": "556b12393f591c21ac439bf3a0a9b7cf2fbbfd5b"
   },
   "source": [
    "## Hyperparameter tuning and cross-validation\n",
    "\n",
    "### Evaluation metrics\n",
    "By default GridSearchCV uses the default scorer to compute the *best_score_*. For both the MultiNomialNb and LogisticRegression this default scoring metric is the accuracy. \n",
    "\n",
    "In our function *grid_vect* we additionally generate the *classification_report* on the test data. This provides some interesting metrics **per target class**, which might be more appropriate here. These metrics are the **precision, recal and F1 score.**\n",
    "\n",
    "* **Precision: ** Of all rows we predicted to be a certain class, how many did we correctly predict?\n",
    "* **Recall: ** Of all rows of a certain class, how many did we correctly predict?\n",
    "* **F1 score: ** Harmonic mean of Precision and Recall.\n",
    "\n",
    "Precision and Recall can be calculated with the elements of the [confusion matrix](https://en.wikipedia.org/wiki/Confusion_matrix)\n",
    "\n",
    "$$Precision = {TP \\over TP + FP}$$\n",
    "\n",
    "\n",
    "$$Recall = {TP \\over TP + FN}$$\n",
    "\n",
    "\n",
    "$$F1 = {2*{Precision*Recall \\over Precision + Recall}}$$"
   ]
  },
  {
   "cell_type": "code",
   "execution_count": 29,
   "metadata": {
    "_cell_guid": "087a0727-fac6-4415-a8a0-b0c82df63903",
    "_uuid": "c4e69eaf67e587b05ca4e8da2bdecfbff8932e06"
   },
   "outputs": [],
   "source": [
    "# Based on http://scikit-learn.org/stable/auto_examples/model_selection/grid_search_text_feature_extraction.html\n",
    "def grid_vect(clf, parameters_clf, X_train, X_test, parameters_text=None, vect=None, is_w2v=False):\n",
    "    \n",
    "    textcountscols = ['count_capital_words','count_emojis','count_excl_quest_marks','count_hashtags'\n",
    "                      ,'count_mentions','count_urls','count_words']\n",
    "    \n",
    "    if is_w2v:\n",
    "        w2vcols = []\n",
    "        for i in range(SIZE):\n",
    "            w2vcols.append(i)\n",
    "        features = FeatureUnion([('textcounts', ColumnExtractor(cols=textcountscols))\n",
    "                                 , ('w2v', ColumnExtractor(cols=w2vcols))]\n",
    "                                , n_jobs=-1)\n",
    "    else:\n",
    "        features = FeatureUnion([('textcounts', ColumnExtractor(cols=textcountscols))\n",
    "                                 , ('pipe', Pipeline([('cleantext', ColumnExtractor(cols='clean_text')), ('vect', vect)]))]\n",
    "                                , n_jobs=-1)\n",
    "\n",
    "    \n",
    "    pipeline = Pipeline([\n",
    "        ('features', features)\n",
    "        , ('clf', clf)\n",
    "    ])\n",
    "    \n",
    "    # Join the parameters dictionaries together\n",
    "    parameters = dict()\n",
    "    if parameters_text:\n",
    "        parameters.update(parameters_text)\n",
    "    parameters.update(parameters_clf)\n",
    "\n",
    "    grid_search = GridSearchCV(pipeline, parameters, n_jobs=-1, verbose=1, cv=5)\n",
    "    \n",
    "    print(\"Performing grid search...\")\n",
    "    print(\"pipeline:\", [name for name, _ in pipeline.steps])\n",
    "    print(\"parameters:\")\n",
    "    pprint(parameters)\n",
    "\n",
    "    t0 = time()\n",
    "    grid_search.fit(X_train, y_train)\n",
    "    print(\"done in %0.3fs\" % (time() - t0))\n",
    "    print()\n",
    "\n",
    "    print(\"Best CV score: %0.3f\" % grid_search.best_score_)\n",
    "    print(\"Best parameters set:\")\n",
    "    best_parameters = grid_search.best_estimator_.get_params()\n",
    "    for param_name in sorted(parameters.keys()):\n",
    "        print(\"\\t%s: %r\" % (param_name, best_parameters[param_name]))\n",
    "        \n",
    "    print(\"Test score with best_estimator_: %0.3f\" % grid_search.best_estimator_.score(X_test, y_test))\n",
    "    print(\"\\n\")\n",
    "    print(\"Classification Report Test Data\")\n",
    "    print(classification_report(y_test, grid_search.best_estimator_.predict(X_test)))\n",
    "                        \n",
    "    return grid_search"
   ]
  },
  {
   "cell_type": "markdown",
   "metadata": {
    "_cell_guid": "01574750-6449-4965-9dfd-3d0ac5ccc34e",
    "_uuid": "0e8f816603ce6030c8ea9d49783701e897db1688"
   },
   "source": [
    "### Parameter grids for GridSearchCV"
   ]
  },
  {
   "cell_type": "code",
   "execution_count": 30,
   "metadata": {
    "_cell_guid": "9212c557-3369-41ba-9162-742fa60eb17e",
    "_uuid": "193739bf202f607a7f6807738fe4c398af49f5e3"
   },
   "outputs": [],
   "source": [
    "# Parameter grid settings for the vectorizers (Count and TFIDF)\n",
    "parameters_vect = {\n",
    "    'features__pipe__vect__max_df': (0.25, 0.5, 0.75),\n",
    "    'features__pipe__vect__ngram_range': ((1, 1), (1, 2)),\n",
    "    'features__pipe__vect__min_df': (1,2)\n",
    "}\n",
    "\n",
    "\n",
    "# Parameter grid settings for MultinomialNB\n",
    "parameters_mnb = {\n",
    "    'clf__alpha': (0.25, 0.5, 0.75)\n",
    "}\n",
    "\n",
    "\n",
    "# Parameter grid settings for LogisticRegression\n",
    "parameters_logreg = {\n",
    "    'clf__C': (0.25, 0.5, 1.0),\n",
    "    'clf__penalty': ('l1', 'l2')\n",
    "}"
   ]
  },
  {
   "cell_type": "markdown",
   "metadata": {
    "_cell_guid": "8793746e-2824-4070-a65d-e9657be8346a",
    "_uuid": "0460417e826faaec6753c344d184415775afbf7f"
   },
   "source": [
    "## Classifiers\n",
    "Here we will compare the performance of a MultinomailNB and LogisticRegression."
   ]
  },
  {
   "cell_type": "code",
   "execution_count": 31,
   "metadata": {
    "_cell_guid": "36321c02-35d4-4251-8191-6d470bad1a46",
    "_uuid": "008942f2740a960f69ef61eb9b7eade21609104c"
   },
   "outputs": [],
   "source": [
    "mnb = MultinomialNB()\n",
    "logreg = LogisticRegression()"
   ]
  },
  {
   "cell_type": "markdown",
   "metadata": {
    "_cell_guid": "cb2dc7e1-0a2c-4e10-b98d-de222e0646a4",
    "_uuid": "c21acf0845975a8bb319a41826499742d229999d"
   },
   "source": [
    "## CountVectorizer\n",
    "Sklearn's **CountVectorizer** takes all words in all tweets, assigns an ID and counts the frequency of the word per tweet. This *bag of words* can then be used as input for a classifier. It is what is called a **sparse** data set, meaning that each record will have many zeroes for the words not occurring in the tweet."
   ]
  },
  {
   "cell_type": "code",
   "execution_count": 32,
   "metadata": {
    "_cell_guid": "de29adfc-1c07-4feb-8c91-c9899cb2808e",
    "_uuid": "c3df430fa01c37c4545c5051eba607a42727786d"
   },
   "outputs": [],
   "source": [
    "countvect = CountVectorizer()"
   ]
  },
  {
   "cell_type": "code",
   "execution_count": 33,
   "metadata": {
    "_cell_guid": "afb5ec51-b86f-40bf-ab9d-3371c4a90d92",
    "_uuid": "7b430d09e131f7f62d528d471c7eb8f8445b7dba"
   },
   "outputs": [
    {
     "name": "stdout",
     "output_type": "stream",
     "text": [
      "Performing grid search...\n",
      "pipeline: ['features', 'clf']\n",
      "parameters:\n",
      "{'clf__alpha': (0.25, 0.5, 0.75),\n",
      " 'features__pipe__vect__max_df': (0.25, 0.5, 0.75),\n",
      " 'features__pipe__vect__min_df': (1, 2),\n",
      " 'features__pipe__vect__ngram_range': ((1, 1), (1, 2))}\n",
      "Fitting 5 folds for each of 36 candidates, totalling 180 fits\n"
     ]
    },
    {
     "name": "stderr",
     "output_type": "stream",
     "text": [
      "[Parallel(n_jobs=-1)]: Using backend LokyBackend with 4 concurrent workers.\n",
      "[Parallel(n_jobs=-1)]: Done  42 tasks      | elapsed:   10.7s\n"
     ]
    },
    {
     "name": "stdout",
     "output_type": "stream",
     "text": [
      "done in 22.839s\n",
      "\n",
      "Best CV score: 0.669\n",
      "Best parameters set:\n",
      "\tclf__alpha: 0.5\n",
      "\tfeatures__pipe__vect__max_df: 0.25\n",
      "\tfeatures__pipe__vect__min_df: 2\n",
      "\tfeatures__pipe__vect__ngram_range: (1, 1)\n",
      "Test score with best_estimator_: 0.690\n",
      "\n",
      "\n",
      "Classification Report Test Data\n",
      "              precision    recall  f1-score   support\n",
      "\n",
      "    negative       0.73      0.90      0.81        49\n",
      "     neutral       0.47      0.41      0.44        22\n",
      "    positive       0.76      0.55      0.64        29\n",
      "\n",
      "   micro avg       0.69      0.69      0.69       100\n",
      "   macro avg       0.66      0.62      0.63       100\n",
      "weighted avg       0.68      0.69      0.68       100\n",
      "\n"
     ]
    },
    {
     "name": "stderr",
     "output_type": "stream",
     "text": [
      "[Parallel(n_jobs=-1)]: Done 180 out of 180 | elapsed:   22.7s finished\n"
     ]
    }
   ],
   "source": [
    "# MultinomialNB\n",
    "best_mnb_countvect = grid_vect(mnb, parameters_mnb, X_train, X_test, parameters_text=parameters_vect, vect=countvect)\n",
    "#joblib.dump(best_mnb_countvect, '../output/best_mnb_countvect.pkl')"
   ]
  },
  {
   "cell_type": "code",
   "execution_count": 34,
   "metadata": {
    "_cell_guid": "542fc0be-11a4-41a4-8c81-2cd424dd4d69",
    "_uuid": "036edeb05520a608a42eec7342234683ae711eaa"
   },
   "outputs": [
    {
     "name": "stderr",
     "output_type": "stream",
     "text": [
      "[Parallel(n_jobs=-1)]: Using backend LokyBackend with 4 concurrent workers.\n"
     ]
    },
    {
     "name": "stdout",
     "output_type": "stream",
     "text": [
      "Performing grid search...\n",
      "pipeline: ['features', 'clf']\n",
      "parameters:\n",
      "{'clf__C': (0.25, 0.5, 1.0),\n",
      " 'clf__penalty': ('l1', 'l2'),\n",
      " 'features__pipe__vect__max_df': (0.25, 0.5, 0.75),\n",
      " 'features__pipe__vect__min_df': (1, 2),\n",
      " 'features__pipe__vect__ngram_range': ((1, 1), (1, 2))}\n",
      "Fitting 5 folds for each of 72 candidates, totalling 360 fits\n"
     ]
    },
    {
     "name": "stderr",
     "output_type": "stream",
     "text": [
      "[Parallel(n_jobs=-1)]: Done  42 tasks      | elapsed:    4.5s\n",
      "[Parallel(n_jobs=-1)]: Done 192 tasks      | elapsed:   17.9s\n",
      "[Parallel(n_jobs=-1)]: Done 360 out of 360 | elapsed:   33.2s finished\n"
     ]
    },
    {
     "name": "stdout",
     "output_type": "stream",
     "text": [
      "done in 33.343s\n",
      "\n",
      "Best CV score: 0.694\n",
      "Best parameters set:\n",
      "\tclf__C: 0.5\n",
      "\tclf__penalty: 'l1'\n",
      "\tfeatures__pipe__vect__max_df: 0.25\n",
      "\tfeatures__pipe__vect__min_df: 1\n",
      "\tfeatures__pipe__vect__ngram_range: (1, 1)\n",
      "Test score with best_estimator_: 0.610\n",
      "\n",
      "\n",
      "Classification Report Test Data\n",
      "              precision    recall  f1-score   support\n",
      "\n",
      "    negative       0.70      0.78      0.74        49\n",
      "     neutral       0.32      0.45      0.38        22\n",
      "    positive       0.87      0.45      0.59        29\n",
      "\n",
      "   micro avg       0.61      0.61      0.61       100\n",
      "   macro avg       0.63      0.56      0.57       100\n",
      "weighted avg       0.67      0.61      0.62       100\n",
      "\n"
     ]
    }
   ],
   "source": [
    "# LogisticRegression\n",
    "best_logreg_countvect = grid_vect(logreg, parameters_logreg, X_train, X_test, parameters_text=parameters_vect, vect=countvect)\n",
    "#joblib.dump(best_logreg_countvect, '../output/best_logreg_countvect.pkl')"
   ]
  },
  {
   "cell_type": "markdown",
   "metadata": {
    "_cell_guid": "dbaf51ca-906d-4af1-9055-22c791f6de07",
    "_uuid": "fa577f613aafd434a375502edaa66d3ceca23aaa"
   },
   "source": [
    "## TF-IDF\n",
    "One issue with CountVectorizer is that there might be words that occur frequently in observations of the target classes. These words do not have discriminatory information and can be removed. **TF-IDF (term frequency - inverse document frequency)** can be used to downweight these frequent words.\n",
    "\n",
    "$$tfidf(t,d) = tf(t,d)*idf(t,d)$$\n",
    "\n",
    "where tf(t,d) is the number of times term *t* occurs in document *d*. The inverse document frequency can be computed as follows:\n",
    "\n",
    "$$idf(t,d) = log{n_d \\over 1 + df(d,t)}$$\n",
    "\n",
    "* $n_d$ is the number of documents\n",
    "* df(d,t) is the number of documents that contain term *t*\n",
    "\n",
    "We see that words that occur in many documents will have a low idf. By adding 1 to the denominator, we avoid having an idf equal to zero for words that occur in all documents."
   ]
  },
  {
   "cell_type": "code",
   "execution_count": 35,
   "metadata": {
    "_cell_guid": "1f7ed46a-4f7b-4671-b77d-1fd800dc2b15",
    "_uuid": "0c5279535d8dacb86b3560eb3257a548e9837126"
   },
   "outputs": [],
   "source": [
    "tfidfvect = TfidfVectorizer()"
   ]
  },
  {
   "cell_type": "code",
   "execution_count": 36,
   "metadata": {
    "_cell_guid": "4892673a-2f32-4c60-ae60-4c38f6f95285",
    "_uuid": "f9c84cb6a4c16d9fd850f1d94ecdb63f3f351c16"
   },
   "outputs": [
    {
     "name": "stdout",
     "output_type": "stream",
     "text": [
      "Performing grid search...\n",
      "pipeline: ['features', 'clf']\n",
      "parameters:\n",
      "{'clf__alpha': (0.25, 0.5, 0.75),\n",
      " 'features__pipe__vect__max_df': (0.25, 0.5, 0.75),\n",
      " 'features__pipe__vect__min_df': (1, 2),\n",
      " 'features__pipe__vect__ngram_range': ((1, 1), (1, 2))}\n",
      "Fitting 5 folds for each of 36 candidates, totalling 180 fits\n"
     ]
    },
    {
     "name": "stderr",
     "output_type": "stream",
     "text": [
      "[Parallel(n_jobs=-1)]: Using backend LokyBackend with 4 concurrent workers.\n",
      "[Parallel(n_jobs=-1)]: Done  42 tasks      | elapsed:    3.7s\n",
      "[Parallel(n_jobs=-1)]: Done 180 out of 180 | elapsed:   15.6s finished\n"
     ]
    },
    {
     "name": "stdout",
     "output_type": "stream",
     "text": [
      "done in 15.828s\n",
      "\n",
      "Best CV score: 0.649\n",
      "Best parameters set:\n",
      "\tclf__alpha: 0.25\n",
      "\tfeatures__pipe__vect__max_df: 0.25\n",
      "\tfeatures__pipe__vect__min_df: 2\n",
      "\tfeatures__pipe__vect__ngram_range: (1, 1)\n",
      "Test score with best_estimator_: 0.650\n",
      "\n",
      "\n",
      "Classification Report Test Data\n",
      "              precision    recall  f1-score   support\n",
      "\n",
      "    negative       0.67      0.90      0.77        49\n",
      "     neutral       0.47      0.41      0.44        22\n",
      "    positive       0.80      0.41      0.55        29\n",
      "\n",
      "   micro avg       0.65      0.65      0.65       100\n",
      "   macro avg       0.65      0.57      0.58       100\n",
      "weighted avg       0.66      0.65      0.63       100\n",
      "\n"
     ]
    }
   ],
   "source": [
    "# MultinomialNB\n",
    "best_mnb_tfidf = grid_vect(mnb, parameters_mnb, X_train, X_test, parameters_text=parameters_vect, vect=tfidfvect)\n",
    "#joblib.dump(best_mnb_tfidf, '../output/best_mnb_tfidf.pkl')"
   ]
  },
  {
   "cell_type": "code",
   "execution_count": 37,
   "metadata": {
    "_cell_guid": "214a2383-9cb8-4d90-a326-f3018118ffff",
    "_uuid": "95e60d825eb7f71de879ed3dcb54feaae461d2f9"
   },
   "outputs": [
    {
     "name": "stdout",
     "output_type": "stream",
     "text": [
      "Performing grid search...\n",
      "pipeline: ['features', 'clf']\n",
      "parameters:\n",
      "{'clf__C': (0.25, 0.5, 1.0),\n",
      " 'clf__penalty': ('l1', 'l2'),\n",
      " 'features__pipe__vect__max_df': (0.25, 0.5, 0.75),\n",
      " 'features__pipe__vect__min_df': (1, 2),\n",
      " 'features__pipe__vect__ngram_range': ((1, 1), (1, 2))}\n",
      "Fitting 5 folds for each of 72 candidates, totalling 360 fits\n"
     ]
    },
    {
     "name": "stderr",
     "output_type": "stream",
     "text": [
      "[Parallel(n_jobs=-1)]: Using backend LokyBackend with 4 concurrent workers.\n",
      "[Parallel(n_jobs=-1)]: Done  42 tasks      | elapsed:    4.0s\n",
      "[Parallel(n_jobs=-1)]: Done 192 tasks      | elapsed:   17.3s\n"
     ]
    },
    {
     "name": "stdout",
     "output_type": "stream",
     "text": [
      "done in 32.939s\n",
      "\n",
      "Best CV score: 0.690\n",
      "Best parameters set:\n",
      "\tclf__C: 1.0\n",
      "\tclf__penalty: 'l1'\n",
      "\tfeatures__pipe__vect__max_df: 0.5\n",
      "\tfeatures__pipe__vect__min_df: 2\n",
      "\tfeatures__pipe__vect__ngram_range: (1, 1)\n",
      "Test score with best_estimator_: 0.600\n",
      "\n",
      "\n",
      "Classification Report Test Data\n",
      "              precision    recall  f1-score   support\n",
      "\n",
      "    negative       0.66      0.78      0.71        49\n",
      "     neutral       0.32      0.41      0.36        22\n",
      "    positive       0.93      0.45      0.60        29\n",
      "\n",
      "   micro avg       0.60      0.60      0.60       100\n",
      "   macro avg       0.64      0.54      0.56       100\n",
      "weighted avg       0.66      0.60      0.60       100\n",
      "\n"
     ]
    },
    {
     "name": "stderr",
     "output_type": "stream",
     "text": [
      "[Parallel(n_jobs=-1)]: Done 360 out of 360 | elapsed:   32.7s finished\n"
     ]
    }
   ],
   "source": [
    "# LogisticRegression\n",
    "best_logreg_tfidf = grid_vect(logreg, parameters_logreg, X_train, X_test, parameters_text=parameters_vect, vect=tfidfvect)\n",
    "#joblib.dump(best_logreg_tfidf, '../output/best_logreg_tfidf.pkl')"
   ]
  },
  {
   "cell_type": "markdown",
   "metadata": {
    "_cell_guid": "c7477bd7-6d56-4bf2-9449-681b88d148ff",
    "_uuid": "b82428854dd5fc8e830a8c028ecc9d290ae9aefc"
   },
   "source": [
    "## Conclusion\n",
    "* Both classifiers achieve the best results when using the features of the CountVectorizer\n",
    "* Overall, Logistic Regression outperforms the Multinomial Naive Bayes classifier\n",
    "* The best performance on the test set comes from the LogisticRegression with features from CountVectorizer. \n",
    "\n",
    "Best parameters:\n",
    "* C value of 1\n",
    "* L2 regularization\n",
    "* max_df: 0.5 or maximum document frequency of 50%.\n",
    "* min_df: 1 or the words need to appear in at least 2 tweets\n",
    "* ngram_range: (1, 2), both single words as bi-grams are used\n",
    "\n",
    "Evaluation metrics:\n",
    "* A **test accuracy** of 81,3%, which is better than what we would achieve by setting the prediction for all observations to the majority class (*negative* which would give 63% accuracy).\n",
    "* The **Precision** is rather high for all three classes. For instance, of all cases that we predict as negative, 80% is indeed negative.\n",
    "* The **Recall** for the neutral class is low. Of all neutral cases in our test data, we only predict 48% as being neutral."
   ]
  },
  {
   "cell_type": "markdown",
   "metadata": {
    "_cell_guid": "636eb271-dd42-45b9-be15-f2eebdcbacc6",
    "_uuid": "ff1a35d16acc301b686083679d0f1c1abcff1467"
   },
   "source": [
    "# Apply the best model on new tweets"
   ]
  },
  {
   "cell_type": "code",
   "execution_count": 44,
   "metadata": {
    "_cell_guid": "09062c4d-74af-4666-ad5b-7a4fdd5d1609",
    "_uuid": "85c665cf6d49f4c6d9ce9d317b59edcd8e99421c"
   },
   "outputs": [],
   "source": [
    "textcountscols = ['count_capital_words','count_emojis','count_excl_quest_marks','count_hashtags'\n",
    "                      ,'count_mentions','count_urls','count_words']\n",
    "    \n",
    "features = FeatureUnion([('textcounts', ColumnExtractor(cols=textcountscols))\n",
    "                         , ('pipe', Pipeline([('cleantext', ColumnExtractor(cols='clean_text'))\n",
    "                                              , ('vect', CountVectorizer(max_df=0.5, min_df=1, ngram_range=(1,2)))]))]\n",
    "                       , n_jobs=-1)\n",
    "\n",
    "pipeline = Pipeline([\n",
    "    ('features', features)\n",
    "    , ('clf', LogisticRegression(C=1.0, penalty='l2'))\n",
    "])\n",
    "\n",
    "best_model = pipeline.fit(df_model.drop('airline_sentiment', axis=1), df_model.airline_sentiment)"
   ]
  },
  {
   "cell_type": "markdown",
   "metadata": {
    "_cell_guid": "85b45b28-cd70-4e14-95db-f247b084760c",
    "_uuid": "40be183cab101f741e096d8f9bec5ef6c4ca6611"
   },
   "source": [
    "## New positive tweets"
   ]
  },
  {
   "cell_type": "code",
   "execution_count": 45,
   "metadata": {
    "_cell_guid": "68f9c4fe-4783-49c8-b712-efc7aac3a6a9",
    "_uuid": "475e26f89d0cf8b16e5cf6d223fe357ab8c676ce"
   },
   "outputs": [
    {
     "data": {
      "text/plain": [
       "['positive', 'positive', 'positive']"
      ]
     },
     "execution_count": 45,
     "metadata": {},
     "output_type": "execute_result"
    }
   ],
   "source": [
    "new_positive_tweets = pd.Series([\"Thank you @VirginAmerica for you amazing customer support team on Tuesday 11/28 at @EWRairport and returning my lost bag in less than 24h! #efficiencyiskey #virginamerica\"\n",
    "                      ,\"Love flying with you guys ask these years.  Sad that this will be the last trip 😂   @VirginAmerica  #LuxuryTravel\"\n",
    "                      ,\"Wow @VirginAmerica main cabin select is the way to fly!! This plane is nice and clean & I have tons of legroom! Wahoo! NYC bound! ✈️\"])\n",
    "\n",
    "df_counts_pos = tc.transform(new_positive_tweets)\n",
    "df_clean_pos = ct.transform(new_positive_tweets)\n",
    "df_model_pos = df_counts_pos\n",
    "df_model_pos['clean_text'] = df_clean_pos\n",
    "\n",
    "best_model.predict(df_model_pos).tolist()"
   ]
  },
  {
   "cell_type": "markdown",
   "metadata": {
    "_cell_guid": "92f4e8e4-c3cb-4c75-98d7-808df9b7d957",
    "_uuid": "7bd24b86003abb43a723c40aefcb1aa2efe5b1c6"
   },
   "source": [
    "## New negative tweets"
   ]
  },
  {
   "cell_type": "code",
   "execution_count": 46,
   "metadata": {
    "_cell_guid": "1cfdc5db-efe3-4df4-a547-25aa1144e46f",
    "_uuid": "08d6ef70b9cf83ba7090bb549a843d46e526bf89"
   },
   "outputs": [
    {
     "data": {
      "text/plain": [
       "['negative', 'negative', 'negative']"
      ]
     },
     "execution_count": 46,
     "metadata": {},
     "output_type": "execute_result"
    }
   ],
   "source": [
    "new_negative_tweets = pd.Series([\"@VirginAmerica shocked my initially with the service, but then went on to shock me further with no response to what my complaint was. #unacceptable @Delta @richardbranson\"\n",
    "                      ,\"@VirginAmerica this morning I was forced to repack a suitcase w a medical device because it was barely overweight - wasn't even given an option to pay extra. My spouses suitcase then burst at the seam with the added device and had to be taped shut. Awful experience so far!\"\n",
    "                      ,\"Board airplane home. Computer issue. Get off plane, traverse airport to gate on opp side. Get on new plane hour later. Plane too heavy. 8 volunteers get off plane. Ohhh the adventure of travel ✈️ @VirginAmerica\"])\n",
    "\n",
    "df_counts_neg = tc.transform(new_negative_tweets)\n",
    "df_clean_neg = ct.transform(new_negative_tweets)\n",
    "df_model_neg = df_counts_neg\n",
    "df_model_neg['clean_text'] = df_clean_neg\n",
    "\n",
    "best_model.predict(df_model_neg).tolist()"
   ]
  },
  {
   "cell_type": "code",
   "execution_count": null,
   "metadata": {},
   "outputs": [],
   "source": []
  }
 ],
 "metadata": {
  "kernelspec": {
   "display_name": "Python 3",
   "language": "python",
   "name": "python3"
  },
  "language_info": {
   "codemirror_mode": {
    "name": "ipython",
    "version": 3
   },
   "file_extension": ".py",
   "mimetype": "text/x-python",
   "name": "python",
   "nbconvert_exporter": "python",
   "pygments_lexer": "ipython3",
   "version": "3.7.1"
  }
 },
 "nbformat": 4,
 "nbformat_minor": 1
}
